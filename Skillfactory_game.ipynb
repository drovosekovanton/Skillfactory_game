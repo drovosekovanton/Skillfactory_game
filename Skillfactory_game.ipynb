{
  "nbformat": 4,
  "nbformat_minor": 0,
  "metadata": {
    "colab": {
      "name": "Skillfactory_game.ipynb",
      "provenance": [],
      "collapsed_sections": [],
      "toc_visible": true,
      "authorship_tag": "ABX9TyOH2TfZv0Zxl/CTv0sXeWJY",
      "include_colab_link": true
    },
    "kernelspec": {
      "name": "python3",
      "display_name": "Python 3"
    }
  },
  "cells": [
    {
      "cell_type": "markdown",
      "metadata": {
        "id": "view-in-github",
        "colab_type": "text"
      },
      "source": [
        "<a href=\"https://colab.research.google.com/github/drovosekovanton/Skillfactory_game/blob/master/Skillfactory_game.ipynb\" target=\"_parent\"><img src=\"https://colab.research.google.com/assets/colab-badge.svg\" alt=\"Open In Colab\"/></a>"
      ]
    },
    {
      "cell_type": "markdown",
      "metadata": {
        "id": "aP4cfMU_9fbi",
        "colab_type": "text"
      },
      "source": [
        "### Импорт используемых библиотек"
      ]
    },
    {
      "cell_type": "code",
      "metadata": {
        "id": "zstEI5lM-2WT",
        "colab_type": "code",
        "colab": {}
      },
      "source": [
        "import pandas as pd\n",
        "import numpy as np\n",
        "from pathlib import PurePath\n",
        "from collections import namedtuple\n",
        "from google.colab import drive\n",
        "import glob\n",
        "from datetime import datetime\n",
        "import progressbar\n",
        "\n",
        "# mount root of your google drive to '/content/drive'\n",
        "drive.mount('/content/drive')\n",
        "# suppose that dataset is inside \n",
        "# 'Colab Notebooks/Skillfactory_game_data' folder\n",
        "file_prefix = PurePath('/content/drive/My Drive/Colab Notebooks'\n",
        "                       '/Skillfactory_game_data')\n"
      ],
      "execution_count": 0,
      "outputs": []
    },
    {
      "cell_type": "markdown",
      "metadata": {
        "id": "pG1_s71o7-2g",
        "colab_type": "text"
      },
      "source": [
        "### `Описание файлов датасета`"
      ]
    },
    {
      "cell_type": "markdown",
      "metadata": {
        "id": "geFZ4zbHBfYM",
        "colab_type": "text"
      },
      "source": [
        "**informations_households.csv**\n",
        "\n",
        "Информация о датчиках энергопотребления и краткие сведения о домах, в которых эти датчики установлены. Столбцы датафрейма:\n",
        "\n",
        "| LCLid | stdorToU | Acorn | Acorn_grouped | file |\n",
        "|:-|:-|:-|:-|:-|\n",
        "| id датчика | форма оплаты за электроэнергию в доме, в котором установлен датчик (Std – стандартная, ToU – Time of Use, оплата зависит от времени суток) | информация о том, к какой категории потребителей по системе ACORN относится семья, проживающая в данном доме |  | имя файла, содержащего показатели счётчиков |\n",
        "\n",
        "\n",
        "**halfhourly_dataset\\block_{0 - 111}.csv**\n",
        "\n",
        "Архив содержит 112 файлов, содержащих данные об энергопотреблении, получаемые с каждого счётчика 1 раз в 30 минут. Каждый файл содержит информацию с датчиков, установленных в одном доме. Столбцы датафрейма:\n",
        "\n",
        "| LCLid | tstp | energy(kWh/hh) |\n",
        "|:-|:-|:-|\n",
        "| id датчика | дата и время фиксации показателей | уровень энергопотребления |\n",
        "\n",
        "**hourly_dataset\\block_{0 - 111}.csv**\n",
        "\n",
        "Архив содержит 112 файлов, содержащих данные об энергопотреблении, получаемые с каждого счётчика 1 раз в час. Каждый файл содержит информацию с датчиков, установленных в одном доме. Столбцы датафрейма:\n",
        "\n",
        "| LCLid | tstp | energy |\n",
        "|:-|:-|:-|\n",
        "| id датчика | дата и время фиксации показателей | уровень энергопотребления |\n",
        "\n",
        "**daily_dataset\\daily_dataset\\block_{0 - 111}.csv**\n",
        "\n",
        "Архив содержит 112 файлов, содержащих обобщённые данные об энергопотреблении за каждые сутки. Каждый файл содержит информацию с датчиков, установленных в одном доме. Столбцы датафрейма:\n",
        "\n",
        "| LCLid | day | energy_median | energy_mean | energy_max |energy_count|energy_std|energy_sum|energy_min|\n",
        "|:-|:-|:-|:-|:-|:-|:-|:-|:-|\n",
        "|id датчика|дата|медиана суточных показателей|среднее арифметическое суточных показателей|максимальное значение энергопотребления, зафиксированное датчиком в течение дня|количество показателей, зафиксированных датчиком в течение дня|стандартное отклонение|сумма значений всех показателей|минимальное значение энергопотребления, зафиксированное датчиком в течение дня|\n",
        "\n",
        "**acorn_details.csv**\n",
        "\n",
        "Данные о группах потребителей согласно классификации ACORN. При характеристике групп в данном датафрейме используется сравнение каждой группы с общенациональными показателями. Так, если значение ячейки по какому-либо показателю составляет 150 это означает, что в рассматриваемой группе этот показатель встречается в 1,5 раза чаще, чем в целом по стране. Столбцы датафрейма:\n",
        "- MAIN CATEGORIES, CATEGORIES, REFERENCE – показатели, по которым осуществляется сравнение групп;\n",
        "- ACORN-A, ACORN-B, ACORN-C, ACORN-D, ACORN-E, ACORN-F, ACORN-G, ACORN-H, ACORN-I, ACORN-J, ACORN-K, ACORN-L, ACORN-M, ACORN-N, ACORN-O, ACORN-P, ACORN-Q – частота встречаемости каждого из рассмотренных признаков в каждой группе.\n",
        "Использование данного файла при проведении анализа не является обязательным\n",
        "\n",
        "**weather_daily_darksky.csv**\n",
        "\n",
        "Обобщённые данные о погоде за день. Столбцы датафрейма:\n",
        "- temperatureMax – максимальное значение температуры воздуха;\n",
        "- temperatureMaxTime – время, когда была зафиксирована максимальная температура воздуха;\n",
        "- windBearing – направление ветра (по азимуту);\n",
        "- icon – стандартизованное словесное описание погодных условий;\n",
        "- dewPoint – точка росы;\n",
        "- temperatureMinTime – время, когда была зафиксирована минимальная температура воздуха;\n",
        "- cloudCover – облачность;\n",
        "- windSpeed – скорость ветра;\n",
        "- pressure – атмосферное давление;\n",
        "- apparentTemperatureMinTime – время, когда была зафиксирована минимальная температура комфорта;\n",
        "- apparentTemperatureHigh – дневная температура комфорта;\n",
        "- precipType – тип осадков;\n",
        "- visibility – видимость (в милях);\n",
        "- humidity – относительная влажность;\n",
        "- apparentTemperatureHighTime – время, когда была зафиксирована дневная температура комфорта;\n",
        "- apparentTemperatureLow – ночная температура комфорта;\n",
        "- apparentTemperatureMax – максимальная температура комфорта;\n",
        "- uvIndex – UV-индекс;\n",
        "- time – время начала сбора данных;\n",
        "- sunsetTime – время заката;\n",
        "- temperatureLow – минимальная ночная температура;\n",
        "- temperatureMin – минимальная температура за сутки;\n",
        "- temperatureHigh – максимальная дневная температура;\n",
        "- sunriseTime – время восхода;\n",
        "- temperatureHighTime – время, когда была зафиксирована максимальная дневная температура;\n",
        "- uvIndexTime – время, когда был зафиксирован максимальный UV-индекс;\n",
        "- summary – словесное описание погоды в течение дня (не рекомендуется использовать для автоматизированного анализа!);\n",
        "- temperatureLowTime – время, когда была зафиксирована минимальная ночная температура;\n",
        "- apparentTemperatureMin – минимальная температура комфорта;\n",
        "- apparentTemperatureMaxTime – время, когда была зафиксирована максимальная температура комфорта за сутки;\n",
        "- apparentTemperatureLowTime – время, когда была зафиксирована минимальная ночная температура комфорта; \n",
        "- moonPhase – фаза луны.\n",
        "\n",
        "**weather_hourly_darksky.csv**\n",
        "\n",
        "Почасовые сведения о погоде. Столбцы датафрейма:\n",
        "- visibility – видимость в милях;\n",
        "- windBearing – направление ветра (по азимуту);\n",
        "- temperature – температура воздуха;\n",
        "- time – время записи показателей;\n",
        "- dewPoint – точка росы;\n",
        "- pressure – атмосферное давление;\n",
        "- apparentTemperature – температура комфорта;\n",
        "- windSpeed – скорость ветра;\n",
        "- precipType – тип осадков;\n",
        "- icon – стандартизованное словесное описание погодных условий;\n",
        "- humidity – относительная влажность;\n",
        "- summary – нестандартизованное словесное описание погодных условий."
      ]
    },
    {
      "cell_type": "markdown",
      "metadata": {
        "id": "C5tT8Cc48MRp",
        "colab_type": "text"
      },
      "source": [
        "### Загрузка сводных данных"
      ]
    },
    {
      "cell_type": "code",
      "metadata": {
        "id": "MWyIz2vR_IAE",
        "colab_type": "code",
        "colab": {}
      },
      "source": [
        "informations_households = pd.read_csv(\n",
        "    file_prefix / 'informations_households.csv',\n",
        "    index_col='LCLid'\n",
        "    )\n",
        "daily_dataset = pd.read_csv(\n",
        "    file_prefix / 'daily_dataset' / 'daily_dataset.csv.zip',\n",
        "    index_col='LCLid'\n",
        "    )\n",
        "acorn_details = pd.read_csv(\n",
        "    file_prefix / 'acorn_details.csv',\n",
        "    encoding='cp1251'\n",
        "    )\n",
        "weather_daily_darksky = pd.read_csv(\n",
        "    file_prefix / 'weather_daily_darksky.csv'\n",
        "    )\n",
        "weather_hourly_darksky = pd.read_csv(\n",
        "    file_prefix / 'weather_hourly_darksky.csv'\n",
        "    )"
      ],
      "execution_count": 0,
      "outputs": []
    },
    {
      "cell_type": "markdown",
      "metadata": {
        "id": "1oDdC84OCA-F",
        "colab_type": "text"
      },
      "source": [
        "### Общие данные по ACORN"
      ]
    },
    {
      "cell_type": "code",
      "metadata": {
        "id": "ZSegTXbRCEL0",
        "colab_type": "code",
        "outputId": "1e095fbf-2284-4578-999e-9b67058f00f1",
        "colab": {
          "base_uri": "https://localhost:8080/",
          "height": 1032
        }
      },
      "source": [
        "# Details on the acorn groups and their profile of the people in the group\n",
        "# At a national scale, the index is 100\n",
        "# if for one column the value is 150 it means that there are 1.5 times more people\n",
        "# with this attribute in the ACORN group than at the national scale\n",
        "display(acorn_details.head(20))\n",
        "\n",
        "display(acorn_details['MAIN CATEGORIES'].unique())\n",
        "# each main category has its subcategory\n",
        "display(acorn_details[acorn_details['MAIN CATEGORIES'] == 'FAMILY']['CATEGORIES'].unique())\n",
        "# and a reference for a certain subcategory\n",
        "# acorn_details['REFERENCE'].unique()\n",
        "# acorn_details[acorn_details['REFERENCE'] == 'Being mugged and robbed']"
      ],
      "execution_count": 0,
      "outputs": [
        {
          "output_type": "display_data",
          "data": {
            "text/html": [
              "<div>\n",
              "<style scoped>\n",
              "    .dataframe tbody tr th:only-of-type {\n",
              "        vertical-align: middle;\n",
              "    }\n",
              "\n",
              "    .dataframe tbody tr th {\n",
              "        vertical-align: top;\n",
              "    }\n",
              "\n",
              "    .dataframe thead th {\n",
              "        text-align: right;\n",
              "    }\n",
              "</style>\n",
              "<table border=\"1\" class=\"dataframe\">\n",
              "  <thead>\n",
              "    <tr style=\"text-align: right;\">\n",
              "      <th></th>\n",
              "      <th>MAIN CATEGORIES</th>\n",
              "      <th>CATEGORIES</th>\n",
              "      <th>REFERENCE</th>\n",
              "      <th>ACORN-A</th>\n",
              "      <th>ACORN-B</th>\n",
              "      <th>ACORN-C</th>\n",
              "      <th>ACORN-D</th>\n",
              "      <th>ACORN-E</th>\n",
              "      <th>ACORN-F</th>\n",
              "      <th>ACORN-G</th>\n",
              "      <th>ACORN-H</th>\n",
              "      <th>ACORN-I</th>\n",
              "      <th>ACORN-J</th>\n",
              "      <th>ACORN-K</th>\n",
              "      <th>ACORN-L</th>\n",
              "      <th>ACORN-M</th>\n",
              "      <th>ACORN-N</th>\n",
              "      <th>ACORN-O</th>\n",
              "      <th>ACORN-P</th>\n",
              "      <th>ACORN-Q</th>\n",
              "    </tr>\n",
              "  </thead>\n",
              "  <tbody>\n",
              "    <tr>\n",
              "      <th>0</th>\n",
              "      <td>POPULATION</td>\n",
              "      <td>Age</td>\n",
              "      <td>Age 0-4</td>\n",
              "      <td>77.0</td>\n",
              "      <td>83.0</td>\n",
              "      <td>72.0</td>\n",
              "      <td>100.0</td>\n",
              "      <td>120.0</td>\n",
              "      <td>77.0</td>\n",
              "      <td>97.0</td>\n",
              "      <td>97.0</td>\n",
              "      <td>63.0</td>\n",
              "      <td>119.0</td>\n",
              "      <td>67.0</td>\n",
              "      <td>114.0</td>\n",
              "      <td>113.0</td>\n",
              "      <td>89.0</td>\n",
              "      <td>123.0</td>\n",
              "      <td>138.0</td>\n",
              "      <td>133.0</td>\n",
              "    </tr>\n",
              "    <tr>\n",
              "      <th>1</th>\n",
              "      <td>POPULATION</td>\n",
              "      <td>Age</td>\n",
              "      <td>Age 5-17</td>\n",
              "      <td>117.0</td>\n",
              "      <td>109.0</td>\n",
              "      <td>87.0</td>\n",
              "      <td>69.0</td>\n",
              "      <td>94.0</td>\n",
              "      <td>95.0</td>\n",
              "      <td>102.0</td>\n",
              "      <td>106.0</td>\n",
              "      <td>67.0</td>\n",
              "      <td>95.0</td>\n",
              "      <td>64.0</td>\n",
              "      <td>108.0</td>\n",
              "      <td>116.0</td>\n",
              "      <td>86.0</td>\n",
              "      <td>89.0</td>\n",
              "      <td>136.0</td>\n",
              "      <td>106.0</td>\n",
              "    </tr>\n",
              "    <tr>\n",
              "      <th>2</th>\n",
              "      <td>POPULATION</td>\n",
              "      <td>Age</td>\n",
              "      <td>Age 18-24</td>\n",
              "      <td>64.0</td>\n",
              "      <td>73.0</td>\n",
              "      <td>67.0</td>\n",
              "      <td>107.0</td>\n",
              "      <td>100.0</td>\n",
              "      <td>71.0</td>\n",
              "      <td>83.0</td>\n",
              "      <td>89.0</td>\n",
              "      <td>62.0</td>\n",
              "      <td>104.0</td>\n",
              "      <td>459.0</td>\n",
              "      <td>97.0</td>\n",
              "      <td>96.0</td>\n",
              "      <td>86.0</td>\n",
              "      <td>117.0</td>\n",
              "      <td>109.0</td>\n",
              "      <td>110.0</td>\n",
              "    </tr>\n",
              "    <tr>\n",
              "      <th>3</th>\n",
              "      <td>POPULATION</td>\n",
              "      <td>Age</td>\n",
              "      <td>Age 25-34</td>\n",
              "      <td>52.0</td>\n",
              "      <td>63.0</td>\n",
              "      <td>62.0</td>\n",
              "      <td>197.0</td>\n",
              "      <td>151.0</td>\n",
              "      <td>66.0</td>\n",
              "      <td>90.0</td>\n",
              "      <td>88.0</td>\n",
              "      <td>63.0</td>\n",
              "      <td>132.0</td>\n",
              "      <td>145.0</td>\n",
              "      <td>109.0</td>\n",
              "      <td>96.0</td>\n",
              "      <td>90.0</td>\n",
              "      <td>140.0</td>\n",
              "      <td>120.0</td>\n",
              "      <td>120.0</td>\n",
              "    </tr>\n",
              "    <tr>\n",
              "      <th>4</th>\n",
              "      <td>POPULATION</td>\n",
              "      <td>Age</td>\n",
              "      <td>Age 35-49</td>\n",
              "      <td>102.0</td>\n",
              "      <td>105.0</td>\n",
              "      <td>91.0</td>\n",
              "      <td>124.0</td>\n",
              "      <td>118.0</td>\n",
              "      <td>93.0</td>\n",
              "      <td>102.0</td>\n",
              "      <td>103.0</td>\n",
              "      <td>76.0</td>\n",
              "      <td>111.0</td>\n",
              "      <td>67.0</td>\n",
              "      <td>99.0</td>\n",
              "      <td>98.0</td>\n",
              "      <td>90.0</td>\n",
              "      <td>102.0</td>\n",
              "      <td>103.0</td>\n",
              "      <td>100.0</td>\n",
              "    </tr>\n",
              "    <tr>\n",
              "      <th>5</th>\n",
              "      <td>POPULATION</td>\n",
              "      <td>Age</td>\n",
              "      <td>Age 50-64</td>\n",
              "      <td>124.0</td>\n",
              "      <td>121.0</td>\n",
              "      <td>120.0</td>\n",
              "      <td>72.0</td>\n",
              "      <td>82.0</td>\n",
              "      <td>126.0</td>\n",
              "      <td>109.0</td>\n",
              "      <td>107.0</td>\n",
              "      <td>112.0</td>\n",
              "      <td>90.0</td>\n",
              "      <td>41.0</td>\n",
              "      <td>95.0</td>\n",
              "      <td>96.0</td>\n",
              "      <td>103.0</td>\n",
              "      <td>89.0</td>\n",
              "      <td>78.0</td>\n",
              "      <td>89.0</td>\n",
              "    </tr>\n",
              "    <tr>\n",
              "      <th>6</th>\n",
              "      <td>POPULATION</td>\n",
              "      <td>Age</td>\n",
              "      <td>Aged 65-74</td>\n",
              "      <td>125.0</td>\n",
              "      <td>120.0</td>\n",
              "      <td>152.0</td>\n",
              "      <td>55.0</td>\n",
              "      <td>61.0</td>\n",
              "      <td>144.0</td>\n",
              "      <td>108.0</td>\n",
              "      <td>104.0</td>\n",
              "      <td>182.0</td>\n",
              "      <td>72.0</td>\n",
              "      <td>29.0</td>\n",
              "      <td>91.0</td>\n",
              "      <td>93.0</td>\n",
              "      <td>125.0</td>\n",
              "      <td>73.0</td>\n",
              "      <td>59.0</td>\n",
              "      <td>76.0</td>\n",
              "    </tr>\n",
              "    <tr>\n",
              "      <th>7</th>\n",
              "      <td>POPULATION</td>\n",
              "      <td>Age</td>\n",
              "      <td>Aged 75 plus</td>\n",
              "      <td>112.0</td>\n",
              "      <td>103.0</td>\n",
              "      <td>157.0</td>\n",
              "      <td>49.0</td>\n",
              "      <td>57.0</td>\n",
              "      <td>117.0</td>\n",
              "      <td>98.0</td>\n",
              "      <td>96.0</td>\n",
              "      <td>220.0</td>\n",
              "      <td>66.0</td>\n",
              "      <td>32.0</td>\n",
              "      <td>87.0</td>\n",
              "      <td>96.0</td>\n",
              "      <td>152.0</td>\n",
              "      <td>72.0</td>\n",
              "      <td>56.0</td>\n",
              "      <td>76.0</td>\n",
              "    </tr>\n",
              "    <tr>\n",
              "      <th>8</th>\n",
              "      <td>POPULATION</td>\n",
              "      <td>Geography</td>\n",
              "      <td>England</td>\n",
              "      <td>107.0</td>\n",
              "      <td>101.0</td>\n",
              "      <td>103.0</td>\n",
              "      <td>114.0</td>\n",
              "      <td>106.0</td>\n",
              "      <td>75.0</td>\n",
              "      <td>107.0</td>\n",
              "      <td>106.0</td>\n",
              "      <td>102.0</td>\n",
              "      <td>106.0</td>\n",
              "      <td>95.0</td>\n",
              "      <td>93.0</td>\n",
              "      <td>97.0</td>\n",
              "      <td>89.0</td>\n",
              "      <td>97.0</td>\n",
              "      <td>110.0</td>\n",
              "      <td>97.0</td>\n",
              "    </tr>\n",
              "    <tr>\n",
              "      <th>9</th>\n",
              "      <td>POPULATION</td>\n",
              "      <td>Geography</td>\n",
              "      <td>Northern Ireland</td>\n",
              "      <td>30.0</td>\n",
              "      <td>95.0</td>\n",
              "      <td>45.0</td>\n",
              "      <td>2.0</td>\n",
              "      <td>49.0</td>\n",
              "      <td>462.0</td>\n",
              "      <td>53.0</td>\n",
              "      <td>104.0</td>\n",
              "      <td>30.0</td>\n",
              "      <td>91.0</td>\n",
              "      <td>56.0</td>\n",
              "      <td>87.0</td>\n",
              "      <td>131.0</td>\n",
              "      <td>67.0</td>\n",
              "      <td>95.0</td>\n",
              "      <td>75.0</td>\n",
              "      <td>43.0</td>\n",
              "    </tr>\n",
              "    <tr>\n",
              "      <th>10</th>\n",
              "      <td>POPULATION</td>\n",
              "      <td>Geography</td>\n",
              "      <td>Scotland</td>\n",
              "      <td>93.0</td>\n",
              "      <td>105.0</td>\n",
              "      <td>87.0</td>\n",
              "      <td>47.0</td>\n",
              "      <td>93.0</td>\n",
              "      <td>144.0</td>\n",
              "      <td>54.0</td>\n",
              "      <td>46.0</td>\n",
              "      <td>97.0</td>\n",
              "      <td>53.0</td>\n",
              "      <td>167.0</td>\n",
              "      <td>114.0</td>\n",
              "      <td>121.0</td>\n",
              "      <td>194.0</td>\n",
              "      <td>139.0</td>\n",
              "      <td>31.0</td>\n",
              "      <td>183.0</td>\n",
              "    </tr>\n",
              "    <tr>\n",
              "      <th>11</th>\n",
              "      <td>POPULATION</td>\n",
              "      <td>Geography</td>\n",
              "      <td>Wales</td>\n",
              "      <td>22.0</td>\n",
              "      <td>73.0</td>\n",
              "      <td>99.0</td>\n",
              "      <td>10.0</td>\n",
              "      <td>46.0</td>\n",
              "      <td>249.0</td>\n",
              "      <td>77.0</td>\n",
              "      <td>84.0</td>\n",
              "      <td>113.0</td>\n",
              "      <td>73.0</td>\n",
              "      <td>98.0</td>\n",
              "      <td>211.0</td>\n",
              "      <td>104.0</td>\n",
              "      <td>150.0</td>\n",
              "      <td>88.0</td>\n",
              "      <td>54.0</td>\n",
              "      <td>45.0</td>\n",
              "    </tr>\n",
              "    <tr>\n",
              "      <th>12</th>\n",
              "      <td>POPULATION</td>\n",
              "      <td>Ethnicity</td>\n",
              "      <td>White</td>\n",
              "      <td>98.0</td>\n",
              "      <td>106.0</td>\n",
              "      <td>110.0</td>\n",
              "      <td>83.0</td>\n",
              "      <td>93.0</td>\n",
              "      <td>114.0</td>\n",
              "      <td>94.0</td>\n",
              "      <td>102.0</td>\n",
              "      <td>113.0</td>\n",
              "      <td>103.0</td>\n",
              "      <td>81.0</td>\n",
              "      <td>92.0</td>\n",
              "      <td>106.0</td>\n",
              "      <td>111.0</td>\n",
              "      <td>100.0</td>\n",
              "      <td>80.0</td>\n",
              "      <td>98.0</td>\n",
              "    </tr>\n",
              "    <tr>\n",
              "      <th>13</th>\n",
              "      <td>POPULATION</td>\n",
              "      <td>Ethnicity</td>\n",
              "      <td>Mixed</td>\n",
              "      <td>117.0</td>\n",
              "      <td>79.0</td>\n",
              "      <td>55.0</td>\n",
              "      <td>248.0</td>\n",
              "      <td>149.0</td>\n",
              "      <td>27.0</td>\n",
              "      <td>84.0</td>\n",
              "      <td>90.0</td>\n",
              "      <td>38.0</td>\n",
              "      <td>116.0</td>\n",
              "      <td>175.0</td>\n",
              "      <td>73.0</td>\n",
              "      <td>88.0</td>\n",
              "      <td>48.0</td>\n",
              "      <td>104.0</td>\n",
              "      <td>193.0</td>\n",
              "      <td>137.0</td>\n",
              "    </tr>\n",
              "    <tr>\n",
              "      <th>14</th>\n",
              "      <td>POPULATION</td>\n",
              "      <td>Ethnicity</td>\n",
              "      <td>Asian</td>\n",
              "      <td>107.0</td>\n",
              "      <td>67.0</td>\n",
              "      <td>34.0</td>\n",
              "      <td>102.0</td>\n",
              "      <td>116.0</td>\n",
              "      <td>8.0</td>\n",
              "      <td>212.0</td>\n",
              "      <td>89.0</td>\n",
              "      <td>21.0</td>\n",
              "      <td>71.0</td>\n",
              "      <td>159.0</td>\n",
              "      <td>276.0</td>\n",
              "      <td>55.0</td>\n",
              "      <td>24.0</td>\n",
              "      <td>102.0</td>\n",
              "      <td>154.0</td>\n",
              "      <td>79.0</td>\n",
              "    </tr>\n",
              "    <tr>\n",
              "      <th>15</th>\n",
              "      <td>POPULATION</td>\n",
              "      <td>Ethnicity</td>\n",
              "      <td>Black</td>\n",
              "      <td>48.0</td>\n",
              "      <td>34.0</td>\n",
              "      <td>21.0</td>\n",
              "      <td>215.0</td>\n",
              "      <td>158.0</td>\n",
              "      <td>6.0</td>\n",
              "      <td>71.0</td>\n",
              "      <td>87.0</td>\n",
              "      <td>14.0</td>\n",
              "      <td>76.0</td>\n",
              "      <td>213.0</td>\n",
              "      <td>71.0</td>\n",
              "      <td>69.0</td>\n",
              "      <td>32.0</td>\n",
              "      <td>85.0</td>\n",
              "      <td>389.0</td>\n",
              "      <td>174.0</td>\n",
              "    </tr>\n",
              "    <tr>\n",
              "      <th>16</th>\n",
              "      <td>POPULATION</td>\n",
              "      <td>Ethnicity</td>\n",
              "      <td>Other ethnicity</td>\n",
              "      <td>174.0</td>\n",
              "      <td>84.0</td>\n",
              "      <td>47.0</td>\n",
              "      <td>304.0</td>\n",
              "      <td>168.0</td>\n",
              "      <td>18.0</td>\n",
              "      <td>105.0</td>\n",
              "      <td>76.0</td>\n",
              "      <td>30.0</td>\n",
              "      <td>81.0</td>\n",
              "      <td>327.0</td>\n",
              "      <td>86.0</td>\n",
              "      <td>52.0</td>\n",
              "      <td>34.0</td>\n",
              "      <td>99.0</td>\n",
              "      <td>179.0</td>\n",
              "      <td>94.0</td>\n",
              "    </tr>\n",
              "    <tr>\n",
              "      <th>17</th>\n",
              "      <td>POPULATION</td>\n",
              "      <td>Country of Birth</td>\n",
              "      <td>UK / ROI</td>\n",
              "      <td>95.0</td>\n",
              "      <td>105.0</td>\n",
              "      <td>107.0</td>\n",
              "      <td>75.0</td>\n",
              "      <td>91.0</td>\n",
              "      <td>110.0</td>\n",
              "      <td>98.0</td>\n",
              "      <td>103.0</td>\n",
              "      <td>109.0</td>\n",
              "      <td>100.0</td>\n",
              "      <td>79.0</td>\n",
              "      <td>98.0</td>\n",
              "      <td>105.0</td>\n",
              "      <td>109.0</td>\n",
              "      <td>98.0</td>\n",
              "      <td>88.0</td>\n",
              "      <td>99.0</td>\n",
              "    </tr>\n",
              "    <tr>\n",
              "      <th>18</th>\n",
              "      <td>POPULATION</td>\n",
              "      <td>Country of Birth</td>\n",
              "      <td>EU: Member countries in March 2001</td>\n",
              "      <td>202.0</td>\n",
              "      <td>85.0</td>\n",
              "      <td>68.0</td>\n",
              "      <td>471.0</td>\n",
              "      <td>166.0</td>\n",
              "      <td>50.0</td>\n",
              "      <td>79.0</td>\n",
              "      <td>70.0</td>\n",
              "      <td>50.0</td>\n",
              "      <td>103.0</td>\n",
              "      <td>233.0</td>\n",
              "      <td>64.0</td>\n",
              "      <td>63.0</td>\n",
              "      <td>46.0</td>\n",
              "      <td>87.0</td>\n",
              "      <td>137.0</td>\n",
              "      <td>75.0</td>\n",
              "    </tr>\n",
              "    <tr>\n",
              "      <th>19</th>\n",
              "      <td>POPULATION</td>\n",
              "      <td>Country of Birth</td>\n",
              "      <td>EU: Accession countries April 2001 to March 2011</td>\n",
              "      <td>55.0</td>\n",
              "      <td>46.0</td>\n",
              "      <td>39.0</td>\n",
              "      <td>184.0</td>\n",
              "      <td>183.0</td>\n",
              "      <td>34.0</td>\n",
              "      <td>90.0</td>\n",
              "      <td>82.0</td>\n",
              "      <td>37.0</td>\n",
              "      <td>130.0</td>\n",
              "      <td>260.0</td>\n",
              "      <td>99.0</td>\n",
              "      <td>81.0</td>\n",
              "      <td>52.0</td>\n",
              "      <td>225.0</td>\n",
              "      <td>155.0</td>\n",
              "      <td>135.0</td>\n",
              "    </tr>\n",
              "  </tbody>\n",
              "</table>\n",
              "</div>"
            ],
            "text/plain": [
              "   MAIN CATEGORIES        CATEGORIES  ... ACORN-P  ACORN-Q\n",
              "0       POPULATION               Age  ...   138.0    133.0\n",
              "1       POPULATION               Age  ...   136.0    106.0\n",
              "2       POPULATION               Age  ...   109.0    110.0\n",
              "3       POPULATION               Age  ...   120.0    120.0\n",
              "4       POPULATION               Age  ...   103.0    100.0\n",
              "5       POPULATION               Age  ...    78.0     89.0\n",
              "6       POPULATION               Age  ...    59.0     76.0\n",
              "7       POPULATION               Age  ...    56.0     76.0\n",
              "8       POPULATION         Geography  ...   110.0     97.0\n",
              "9       POPULATION         Geography  ...    75.0     43.0\n",
              "10      POPULATION         Geography  ...    31.0    183.0\n",
              "11      POPULATION         Geography  ...    54.0     45.0\n",
              "12      POPULATION         Ethnicity  ...    80.0     98.0\n",
              "13      POPULATION         Ethnicity  ...   193.0    137.0\n",
              "14      POPULATION         Ethnicity  ...   154.0     79.0\n",
              "15      POPULATION         Ethnicity  ...   389.0    174.0\n",
              "16      POPULATION         Ethnicity  ...   179.0     94.0\n",
              "17      POPULATION  Country of Birth  ...    88.0     99.0\n",
              "18      POPULATION  Country of Birth  ...   137.0     75.0\n",
              "19      POPULATION  Country of Birth  ...   155.0    135.0\n",
              "\n",
              "[20 rows x 20 columns]"
            ]
          },
          "metadata": {
            "tags": []
          }
        },
        {
          "output_type": "display_data",
          "data": {
            "text/plain": [
              "array(['POPULATION', 'HOUSING', 'FAMILY', 'ECONOMY', 'EDUCATION',\n",
              "       'HEALTH', 'TRANSPORT', 'MARKETING CHANNELS', 'FINANCE', 'DIGITAL',\n",
              "       'SHOPPING', 'CONTACT', 'ENVIRONMENT', 'COMMUNITY SAFETY',\n",
              "       'LEISURE TIME'], dtype=object)"
            ]
          },
          "metadata": {
            "tags": []
          }
        },
        {
          "output_type": "display_data",
          "data": {
            "text/plain": [
              "array(['Structure', 'Children in household', 'Household Size'],\n",
              "      dtype=object)"
            ]
          },
          "metadata": {
            "tags": []
          }
        }
      ]
    },
    {
      "cell_type": "code",
      "metadata": {
        "id": "lSDjJo8vCUXD",
        "colab_type": "code",
        "outputId": "670b8278-4811-4007-a181-6aa96ef3039e",
        "colab": {
          "base_uri": "https://localhost:8080/",
          "height": 743
        }
      },
      "source": [
        "# common details over population\n",
        "display(acorn_details.drop_duplicates(subset=['MAIN CATEGORIES'])['MAIN CATEGORIES'])\n",
        "display(acorn_details.drop_duplicates(subset=['MAIN CATEGORIES', 'CATEGORIES']).set_index(['MAIN CATEGORIES'])['CATEGORIES'])\n",
        "display(acorn_details.drop_duplicates(subset=['MAIN CATEGORIES', 'CATEGORIES', 'REFERENCE']).set_index(['MAIN CATEGORIES', 'CATEGORIES'])['REFERENCE'])"
      ],
      "execution_count": 0,
      "outputs": [
        {
          "output_type": "display_data",
          "data": {
            "text/plain": [
              "0              POPULATION\n",
              "35                HOUSING\n",
              "59                 FAMILY\n",
              "74                ECONOMY\n",
              "108             EDUCATION\n",
              "127                HEALTH\n",
              "134             TRANSPORT\n",
              "159    MARKETING CHANNELS\n",
              "186               FINANCE\n",
              "280               DIGITAL\n",
              "652              SHOPPING\n",
              "696               CONTACT\n",
              "700           ENVIRONMENT\n",
              "712      COMMUNITY SAFETY\n",
              "734          LEISURE TIME\n",
              "Name: MAIN CATEGORIES, dtype: object"
            ]
          },
          "metadata": {
            "tags": []
          }
        },
        {
          "output_type": "display_data",
          "data": {
            "text/plain": [
              "MAIN CATEGORIES\n",
              "POPULATION                                   Age\n",
              "POPULATION                             Geography\n",
              "POPULATION                             Ethnicity\n",
              "POPULATION                      Country of Birth\n",
              "POPULATION                              Religion\n",
              "                              ...               \n",
              "LEISURE TIME    Visit Pubs for a Drink - Evening\n",
              "LEISURE TIME         Visit Pubs for a Meal - Day\n",
              "LEISURE TIME     Visit Pubs for a Meal - Evening\n",
              "LEISURE TIME            Restaurants - Most Often\n",
              "LEISURE TIME            Holiday Destination/Type\n",
              "Name: CATEGORIES, Length: 84, dtype: object"
            ]
          },
          "metadata": {
            "tags": []
          }
        },
        {
          "output_type": "display_data",
          "data": {
            "text/plain": [
              "MAIN CATEGORIES  CATEGORIES              \n",
              "POPULATION       Age                                           Age 0-4\n",
              "                 Age                                          Age 5-17\n",
              "                 Age                                         Age 18-24\n",
              "                 Age                                         Age 25-34\n",
              "                 Age                                         Age 35-49\n",
              "                                                       ...            \n",
              "LEISURE TIME     Holiday Destination/Type                         Asia\n",
              "                 Holiday Destination/Type    Activity / Outdoor Sports\n",
              "                 Holiday Destination/Type                       Cruise\n",
              "                 Holiday Destination/Type                      Package\n",
              "                 Holiday Destination/Type                Self-catering\n",
              "Name: REFERENCE, Length: 826, dtype: object"
            ]
          },
          "metadata": {
            "tags": []
          }
        }
      ]
    },
    {
      "cell_type": "markdown",
      "metadata": {
        "id": "8LkiYMBGCfDw",
        "colab_type": "text"
      },
      "source": [
        "### группы по ACORN среди потребителей в датасете"
      ]
    },
    {
      "cell_type": "code",
      "metadata": {
        "id": "9YLOab2ICgNt",
        "colab_type": "code",
        "outputId": "07af9444-e746-4abe-a8ea-522bd6c734f6",
        "colab": {
          "base_uri": "https://localhost:8080/",
          "height": 415
        }
      },
      "source": [
        "# группы потребителей по ACORN\n",
        "\n",
        "display(informations_households['Acorn_grouped'].unique())\n",
        "# Присутствует 'ACORN-U(nclassified)' который не принадлежит ни одной ACORN-метрике,\n",
        "# возможно, нам придётся его дропать при обработке по группам ACORN\n",
        "# Также присутствует 'ACORN-' - скорее всего, битые данные, надо их отбросить\n",
        "# Affluent - обеспеченный класс \n",
        "# Comfortable - средний класс\n",
        "# Adversity - низший класс\n",
        "display(informations_households.groupby(['Acorn', 'Acorn_grouped'])['file'].count())\n",
        "display(informations_households = informations_households[informations_households['Acorn'] != 'ACORN-'])"
      ],
      "execution_count": 0,
      "outputs": [
        {
          "output_type": "display_data",
          "data": {
            "text/plain": [
              "array(['ACORN-', 'Affluent', 'Comfortable', 'Adversity', 'ACORN-U'],\n",
              "      dtype=object)"
            ]
          },
          "metadata": {
            "tags": []
          }
        },
        {
          "output_type": "display_data",
          "data": {
            "text/plain": [
              "Acorn    Acorn_grouped\n",
              "ACORN-   ACORN-              2\n",
              "ACORN-A  Affluent          157\n",
              "ACORN-B  Affluent           25\n",
              "ACORN-C  Affluent          151\n",
              "ACORN-D  Affluent          292\n",
              "ACORN-E  Affluent         1567\n",
              "ACORN-F  Comfortable       684\n",
              "ACORN-G  Comfortable       205\n",
              "ACORN-H  Comfortable       455\n",
              "ACORN-I  Comfortable        51\n",
              "ACORN-J  Comfortable       112\n",
              "ACORN-K  Adversity         165\n",
              "ACORN-L  Adversity         342\n",
              "ACORN-M  Adversity         113\n",
              "ACORN-N  Adversity         152\n",
              "ACORN-O  Adversity         103\n",
              "ACORN-P  Adversity         110\n",
              "ACORN-Q  Adversity         831\n",
              "ACORN-U  ACORN-U            49\n",
              "Name: file, dtype: int64"
            ]
          },
          "metadata": {
            "tags": []
          }
        }
      ]
    },
    {
      "cell_type": "markdown",
      "metadata": {
        "id": "iRQVqugZCsqy",
        "colab_type": "text"
      },
      "source": [
        "### Погодные данные"
      ]
    },
    {
      "cell_type": "code",
      "metadata": {
        "id": "cgnDS_VfCtkH",
        "colab_type": "code",
        "colab": {}
      },
      "source": [
        "display(weather_daily_darksky.head())\n",
        "display(weather_hourly_darksky.head())"
      ],
      "execution_count": 0,
      "outputs": []
    },
    {
      "cell_type": "markdown",
      "metadata": {
        "id": "19niET9_m95M",
        "colab_type": "text"
      },
      "source": [
        "## Общие функции работы с данными"
      ]
    },
    {
      "cell_type": "markdown",
      "metadata": {
        "id": "X7heEh-q-LQ_",
        "colab_type": "text"
      },
      "source": [
        "### Запрос почасовой информации в зависимости от списка LCLids"
      ]
    },
    {
      "cell_type": "markdown",
      "metadata": {
        "id": "jF-LKuk5-aHc",
        "colab_type": "text"
      },
      "source": [
        "Мы можем формировать список LCLids на основе каких-то отборочных условий (тип тарификации, группа ACORN), отдавать его в функцию и принимать почасовое потребление этой конкретной группы потребителей."
      ]
    },
    {
      "cell_type": "markdown",
      "metadata": {
        "id": "qmi1mfWe_SEQ",
        "colab_type": "text"
      },
      "source": [
        "```\n",
        "retrieve_LCLids_hourly_consumption(LCLids)\n",
        "\n",
        "Параметр LCLids:\n",
        "перечислимый тип, состоящий из LCLid, предложенных к отбору\n",
        "\n",
        "Возвращаемый результат:\n",
        "DataFrame с колонками tstp (градация - час) и energy (кВт\\*ч/ч\\*ч)\n",
        "\n",
        "Использует в работе:\n",
        "hourly_dataset/block_xxx.csv.zip\n",
        "```\n",
        "\n"
      ]
    },
    {
      "cell_type": "code",
      "metadata": {
        "id": "9HlMbKIS-XxN",
        "colab_type": "code",
        "colab": {}
      },
      "source": [
        "def retrieve_LCLids_hourly_consumption(LCLids):\n",
        "    # transform any type to list\n",
        "    try:\n",
        "        LCLids = list(LCLids)\n",
        "    except TypeError:\n",
        "        print(f'LCLids has incompatible type: {type(LCList)}')\n",
        "    \n",
        "    # forming block file names to work upon\n",
        "    files_to_proceed = set(informations_households.loc[LCLids]['file'])\n",
        "    \n",
        "    result_df = pd.DataFrame(columns=['tstp', 'energy'])\n",
        "    # simple progress bar\n",
        "    bar = progressbar.ProgressBar(\n",
        "        prefix='retrieve_LCLids_hourly_consumption, files: ')\n",
        "\n",
        "    for file in bar(files_to_proceed):\n",
        "        z = pd.read_csv(\n",
        "            file_prefix / 'hourly_dataset' / f'{file}.csv.zip',\n",
        "            parse_dates=['tstp'],\n",
        "            infer_datetime_format=True,\n",
        "            na_values='Null',\n",
        "            dtype={'energy': np.double}\n",
        "        )\n",
        "        # filter out only LCLids that we are needed\n",
        "        z = z[z['LCLid'].isin(LCLids)]\n",
        "        # grouping, summing and regrouping back one level,\n",
        "        # dropping LCLid column.\n",
        "        # grouping only by timestamp, cause we are aware\n",
        "        # about common info only, but not specific LCLid\n",
        "        z = z \\\n",
        "        .groupby(by=['tstp'])\\\n",
        "        .agg(np.sum)\\\n",
        "        .reset_index(['tstp'])\n",
        "        result_df = pd.concat([result_df, z], copy=False)\n",
        "    return result_df\n",
        "\n",
        "# retrieve_LCLids_hourly_consumption(\n",
        "#     informations_households[informations_households['Acorn']\n",
        "#                             == 'ACORN-U'].index)\n",
        "# retrieve_LCLids_hourly_consumption(['MAC000002'])"
      ],
      "execution_count": 0,
      "outputs": []
    },
    {
      "cell_type": "markdown",
      "metadata": {
        "id": "WU6CsiAcRNZB",
        "colab_type": "text"
      },
      "source": [
        "### Группировка почасовых значений в течение всего периода наблюдений"
      ]
    },
    {
      "cell_type": "markdown",
      "metadata": {
        "id": "-jGaVtn5RcTk",
        "colab_type": "text"
      },
      "source": [
        "Необходимо сгруппировать полученный датафрейм ['tstp', 'energy'] по часам наблюдения, и вывести итоговый датафрейм, в котором 24 строки.\n",
        "\n",
        "Используется только для анализа по времени суток, для анализа по дням месяца/года надо использовать daily_dataset"
      ]
    },
    {
      "cell_type": "markdown",
      "metadata": {
        "id": "lM-Z6rg0Rzdw",
        "colab_type": "text"
      },
      "source": [
        "\n",
        "\n",
        "```\n",
        "flatten_to_hours(consumption)\n",
        "\n",
        "Параметр consumption:\n",
        "датафрейм с колонками tstp и energy\n",
        "\n",
        "Возвращаемый результат:\n",
        "датафрейм с 24 строками, hour - час наблюдения, energy - среднее потребление за этот час в течение всего периода наблюдений\n",
        "```\n",
        "\n"
      ]
    },
    {
      "cell_type": "code",
      "metadata": {
        "id": "J2tip1i6Ra8d",
        "colab_type": "code",
        "colab": {}
      },
      "source": [
        "def flatten_to_hours(consumption):\n",
        "    # proper format and not empty\n",
        "    assert list(consumption.columns) == ['tstp', 'energy']\n",
        "    assert not consumption.empty \n",
        "    consumption['hour'] = consumption['tstp'].apply(lambda x: x.hour)\n",
        "    consumption.drop(columns=['tstp'], inplace=True)\n",
        "    consumption = consumption\\\n",
        "        .groupby(by=['hour']).agg(['mean']).reset_index(['hour'])\n",
        "    # here are some f*cking magic with column names\n",
        "    # coz aggregation return multiindex instead of regular index\n",
        "    consumption.columns = ['hour', 'energy']\n",
        "    return consumption\n",
        "\n",
        "# z = flatten_to_hours(\n",
        "#     retrieve_LCLids_hourly_consumption(\n",
        "#      informations_households[informations_households['Acorn']\n",
        "#                              == 'ACORN-Q'].index)\n",
        "# )\n",
        "# z = flatten_to_hours(retrieve_LCLids_hourly_consumption(['MAC000002']))"
      ],
      "execution_count": 0,
      "outputs": []
    },
    {
      "cell_type": "markdown",
      "metadata": {
        "id": "VC7x_l1SwxBV",
        "colab_type": "text"
      },
      "source": [
        "## Предварительная обработка данных"
      ]
    },
    {
      "cell_type": "markdown",
      "metadata": {
        "id": "yIV-WhghYExw",
        "colab_type": "text"
      },
      "source": [
        "### Предварительная обработка получасовых значений и сведение их к часовым"
      ]
    },
    {
      "cell_type": "markdown",
      "metadata": {
        "id": "B9HB75VkYNA9",
        "colab_type": "text"
      },
      "source": [
        "Вопрос: стоит ли?\n",
        "\n",
        "Сильно уменьшится сложность обработки при изъятии данных по LCLid.\n",
        "Можно будет при загрузке сразу определять тип данных у даты и у показаний счётчика, не будет пустых зачений - то есть предварительно проводится очистка и обработка данных, остаётся только загрузка через read_csv и работа с ними без промежуточных этапов.\n",
        "\n",
        "\n",
        "\n",
        "```\n",
        "Результат:\n",
        "файлы hourly_dataset/block_xxx.csv.zip\n",
        "формат файла аналогичен halfhourly_dataset/block_xxx.csv.zip, только отсчёты один раз в час\n",
        "\n",
        "Использует в работе:\n",
        "halfhourly_dataset/block_xxx.csv.zip\n",
        "```\n",
        "\n"
      ]
    },
    {
      "cell_type": "code",
      "metadata": {
        "id": "88fmG9mxcvme",
        "colab_type": "code",
        "outputId": "20376c33-622c-4730-c0af-6829ca2cc479",
        "colab": {
          "base_uri": "https://localhost:8080/",
          "height": 34
        }
      },
      "source": [
        "# creating progressbar, coz there is much to work\n",
        "bar = progressbar.ProgressBar(prefix='Processing files: ')\n",
        "for file in bar(\n",
        "    glob.glob(str(file_prefix / 'halfhourly_dataset' / '*.*'))\n",
        "    ):\n",
        "    # !ls 'drive/My Drive/Colab Notebooks/Skillfactory_game_data'\n",
        "    # define new file name\n",
        "    filename = file_prefix / 'hourly_dataset' / file.split('/')[-1]\n",
        "    z = pd.read_csv(\n",
        "        file,\n",
        "        parse_dates=['tstp'],\n",
        "        infer_datetime_format=True,\n",
        "        na_values='Null',\n",
        "        keep_default_na=True,\n",
        "    )\n",
        "    z.columns = ['LCLid', 'tstp', 'energy']\n",
        "    z.fillna(0, inplace=True)\n",
        "    # np.float16 is too rough even for thousandths\n",
        "    z['energy'] = z['energy'].astype(np.double, copy=False)\n",
        "    # now we need to concatenate two halves of an hour\n",
        "    # roughing them to hours.\n",
        "    # this place is extremely slow,\n",
        "    # we need to get rid of this conversion\n",
        "    z['tstp'] = z['tstp'].apply(\n",
        "        lambda x: pd.Timestamp(x)\\\n",
        "        .replace(minute=0, second=0)\\\n",
        "        .to_datetime64())\n",
        "    # grouping, summing and regrouping back one level,\n",
        "    # converting LCLid column to index.\n",
        "    z = z \\\n",
        "    .groupby(by=['LCLid', 'tstp'])\\\n",
        "    .agg(np.sum)\\\n",
        "    .reset_index(['tstp'])\n",
        "    # round energy consumption value to 3 digits, that should be enough\n",
        "    z.to_csv(filename, float_format='%.3f')\n"
      ],
      "execution_count": 0,
      "outputs": [
        {
          "output_type": "stream",
          "text": [
            "Processing files: 100% (112 of 112) |####| Elapsed Time: 0:33:20 Time:  0:33:20\n"
          ],
          "name": "stderr"
        }
      ]
    },
    {
      "cell_type": "markdown",
      "metadata": {
        "id": "rWEtaOWBGHv4",
        "colab_type": "text"
      },
      "source": [
        "### Сводная таблица часовых потреблений электроэнергии по группам ACORN-x"
      ]
    },
    {
      "cell_type": "markdown",
      "metadata": {
        "id": "dtl_yXoOGV_m",
        "colab_type": "text"
      },
      "source": [
        "Необходимо для каждой ACORN-x сделать часовую сводку средней потреблённой электроэнергии и свести в таблицу hour - ACORN-A - ACORN-B - ...\n",
        "\n",
        "Выполняется один раз. Используются общие функции retrieve_LCLids_hourly_consumption и flatten_to_hours.\n",
        "\n",
        "Полученный датафрейм сохранён для референса на него в последующих изысканиях как\n",
        "acorn_hourly_dataset.csv"
      ]
    },
    {
      "cell_type": "code",
      "metadata": {
        "id": "JrCYiAs3IZkn",
        "colab_type": "code",
        "colab": {}
      },
      "source": [
        "acorn_groups = list(informations_households['Acorn'].unique())\n",
        "acorn_hourly_dataset = pd.DataFrame(columns=['hour'])\n",
        "for acorn in acorn_groups:\n",
        "    display(f'Retrieving ACORN group: {acorn}...')\n",
        "    # retrieve list of LCLid for each ACORN-x\n",
        "    # get dataframe of their hour consumption\n",
        "    # and calculate mean of it over hours \n",
        "    z = flatten_to_hours(\n",
        "        retrieve_LCLids_hourly_consumption(\n",
        "            informations_households[informations_households['Acorn']\n",
        "                             == acorn].index)\n",
        "    )\n",
        "    z.columns = ['hour', acorn]\n",
        "    acorn_hourly_dataset = acorn_hourly_dataset.merge(\n",
        "        z, on=['hour'], how='outer', copy=False)\n",
        "\n",
        "acorn_hourly_dataset.to_csv(\n",
        "    file_prefix / 'acorn_hourly_dataset.csv'\n",
        ")"
      ],
      "execution_count": 0,
      "outputs": []
    },
    {
      "cell_type": "code",
      "metadata": {
        "id": "Je3tbPeVK4Q2",
        "colab_type": "code",
        "outputId": "0d2ad156-e7d2-40b8-a9a0-7e506e6b724e",
        "colab": {
          "base_uri": "https://localhost:8080/",
          "height": 372
        }
      },
      "source": [
        "acorn_hourly_dataset.plot.area(x='hour')"
      ],
      "execution_count": 24,
      "outputs": [
        {
          "output_type": "execute_result",
          "data": {
            "text/plain": [
              "<matplotlib.axes._subplots.AxesSubplot at 0x7fe8a48d14e0>"
            ]
          },
          "metadata": {
            "tags": []
          },
          "execution_count": 24
        },
        {
          "output_type": "display_data",
          "data": {
            "image/png": "[encoded data removed]",
            "text/plain": [
              "<Figure size 432x288 with 1 Axes>"
            ]
          },
          "metadata": {
            "tags": []
          }
        }
      ]
    },
    {
      "cell_type": "markdown",
      "metadata": {
        "id": "6ZTbkyFTC5FJ",
        "colab_type": "text"
      },
      "source": [
        "## Работа с данными\n"
      ]
    },
    {
      "cell_type": "markdown",
      "metadata": {
        "id": "DdIWkmWV-j6K",
        "colab_type": "text"
      },
      "source": [
        "### запрос всех данных потребителя по его LCLid"
      ]
    },
    {
      "cell_type": "markdown",
      "metadata": {
        "id": "dcaaKh253i7y",
        "colab_type": "text"
      },
      "source": [
        "Функция пока не используется"
      ]
    },
    {
      "cell_type": "code",
      "metadata": {
        "id": "AlA5y7fjC5v-",
        "colab_type": "code",
        "outputId": "60ebfadb-c1da-4cd2-a08e-86d21d96ba1a",
        "colab": {
          "base_uri": "https://localhost:8080/",
          "height": 138
        }
      },
      "source": [
        "LCLid_full_data = namedtuple(\n",
        "    'LCLid_full_data',\n",
        "    ['LCLid',\n",
        "    'Acorn',  # Acorn category group\n",
        "    'Acorn_grouped',  # common subdivision over Acorn groups\n",
        "    'stdorToU',  # Standart or TimeOfUse\n",
        "    'consumption']  # returns DataFrame\n",
        ")\n",
        "\n",
        "def retrieve_LCLid_full_data(LCLid):\n",
        "# запрос всех данных потребителя по его LCLid\n",
        "    LCLid_series = informations_households.loc[LCLid]\n",
        "    file = LCLid_series['file']\n",
        "    hh_ds_block = pd.read_csv(\n",
        "        file_prefix / 'halfhourly_dataset' / f'{file}.csv.zip',\n",
        "        parse_dates=['tstp'],\n",
        "        infer_datetime_format=True,\n",
        "        na_values='Null',\n",
        "        keep_default_na=True,\n",
        "        index_col='LCLid')\n",
        "    hh_ds_block = hh_ds_block.loc[LCLid]\n",
        "    hh_ds_block.fillna(0, inplace=True)\n",
        "    hh_ds_block.columns = ['tstp', 'energy']\n",
        "    # np.float16 is too rough even for thousandths\n",
        "    hh_ds_block['energy'] = hh_ds_block['energy'].astype(np.float32, copy=False)\n",
        "\n",
        "    return LCLid_full_data(\n",
        "        LCLid=LCLid,\n",
        "        Acorn=LCLid_series['Acorn'],\n",
        "        Acorn_grouped=LCLid_series['Acorn_grouped'],\n",
        "        stdorToU=LCLid_series['stdorToU'],\n",
        "        consumption=hh_ds_block\n",
        "    )\n",
        "\n",
        "z = retrieve_LCLid_full_data('MAC003597')\n",
        "# z.Acorn\n",
        "# z.consumption.sample(5)\n",
        "z.consumption.info()"
      ],
      "execution_count": 3,
      "outputs": [
        {
          "output_type": "stream",
          "text": [
            "<class 'pandas.core.frame.DataFrame'>\n",
            "Index: 24215 entries, MAC003597 to MAC003597\n",
            "Data columns (total 2 columns):\n",
            "tstp      24215 non-null datetime64[ns]\n",
            "energy    24215 non-null float32\n",
            "dtypes: datetime64[ns](1), float32(1)\n",
            "memory usage: 472.9+ KB\n"
          ],
          "name": "stdout"
        }
      ]
    },
    {
      "cell_type": "markdown",
      "metadata": {
        "id": "TRg6A0K8-olc",
        "colab_type": "text"
      },
      "source": [
        "### Сбор всех данных из получасовых отсчётов в один датафрейм"
      ]
    },
    {
      "cell_type": "markdown",
      "metadata": {
        "id": "U2OPVJCl5w_m",
        "colab_type": "text"
      },
      "source": [
        "Ну что ж, как показала практика, даже гугловский колаб крэшится из-за недостатка памяти.\n",
        "Придётся обрабатывать такие получасовки раздельно, предварительно преобразовав их в почасовое потребление.\n",
        "\n",
        "Хотя памяти потребовалось не так уж и много, на самом деле.\n",
        "\n",
        "Оставлено для истории.\n",
        "\n",
        "```\n",
        "DEBUG: concatenated dataframe info\n",
        "<class 'pandas.core.frame.DataFrame'>\n",
        "Index: 83925602 entries, MAC000002 to MAC005523\n",
        "Data columns (total 2 columns):\n",
        "tstp      object\n",
        "energy    float32\n",
        "dtypes: float32(1), object(1)\n",
        "memory usage: 1.6+ GB\n",
        "None\n",
        "```\n",
        "\n"
      ]
    },
    {
      "cell_type": "code",
      "metadata": {
        "id": "JzI0ZmkRC88u",
        "colab_type": "code",
        "colab": {}
      },
      "source": [
        "consumption = pd.DataFrame(columns=['tstp','energy'])\n",
        "\n",
        "for file in glob.glob(str(file_prefix / 'halfhourly_dataset' / '*.*')):\n",
        "    print(f'DEBUG: file={file}')\n",
        "    temp = pd.read_csv(\n",
        "        file,\n",
        "        parse_dates=['tstp'],\n",
        "        infer_datetime_format=True,\n",
        "        na_values='Null',\n",
        "        keep_default_na=True,\n",
        "        # index_col='LCLid' # we'll do it later\n",
        "    )\n",
        "    temp.columns = ['LCLid', 'tstp', 'energy']\n",
        "    temp.fillna(0, inplace=True)\n",
        "    # np.float16 is too rough even for thousandths\n",
        "    temp['energy'] = temp['energy'].astype(np.float32, copy=False)\n",
        "    # now we need to concatenate two halves of an hour\n",
        "    # roughing to hours\n",
        "    temp['tstp'] = temp['tstp'].dt.to_period('H')\n",
        "    # grouping, summing and regrouping back one level,\n",
        "    # so LCLid stays as an index\n",
        "    consumption = pd.concat(\n",
        "        [consumption,\n",
        "         temp.groupby(by=['LCLid', 'tstp']).agg(np.sum).reset_index(['tstp'])\n",
        "         ], copy=False)\n",
        "\n",
        "    # for testing with small amount of data\n",
        "    # count_tables += 1\n",
        "    # if count_tables > 5:\n",
        "    #     break\n",
        "    \n",
        "# display(consumption.sample(10))\n",
        "print('DEBUG: concatenated dataframe info')\n",
        "display(consumption.info())\n",
        "\n",
        "# save it to the google disk\n",
        "# do we really need this? omg, i don't know\n",
        "# it's just for lulz, mate\n",
        "print('DEBUG: pickling concatenated dataframe to disk')\n",
        "pd.to_pickle(\n",
        "    consumption,\n",
        "    file_prefix / 'hourly_dataset' / 'hourly_dataset.pickle.zip', \n",
        "    compression='zip',\n",
        "    protocol=4)\n"
      ],
      "execution_count": 0,
      "outputs": []
    },
    {
      "cell_type": "markdown",
      "metadata": {
        "colab_type": "text",
        "id": "UKxDUQvVBzO5"
      },
      "source": [
        "### пример чтения списка файлов из папки на Google disk"
      ]
    },
    {
      "cell_type": "code",
      "metadata": {
        "colab_type": "code",
        "id": "wjeQ-nynBzOV",
        "colab": {}
      },
      "source": [
        "file_path = glob.glob(str(file_prefix / 'halfhourly_dataset' / '*.*'))\n",
        "for file in file_path:\n",
        "    print(file)"
      ],
      "execution_count": 0,
      "outputs": []
    },
    {
      "cell_type": "markdown",
      "metadata": {
        "id": "u8975fwX-aYb",
        "colab_type": "text"
      },
      "source": [
        "### закрытие файлов на Google disk"
      ]
    },
    {
      "cell_type": "code",
      "metadata": {
        "id": "SO4woHpIoywf",
        "colab_type": "code",
        "colab": {}
      },
      "source": [
        "drive.flush_and_unmount()"
      ],
      "execution_count": 0,
      "outputs": []
    }
  ]
}