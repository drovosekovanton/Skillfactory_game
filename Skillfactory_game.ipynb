{
  "nbformat": 4,
  "nbformat_minor": 0,
  "metadata": {
    "colab": {
      "name": "Skillfactory_game.ipynb",
      "provenance": [],
      "collapsed_sections": [],
      "authorship_tag": "ABX9TyPimcu3bHXZ/OTWAuRIhzRI",
      "include_colab_link": true
    },
    "kernelspec": {
      "name": "python3",
      "display_name": "Python 3"
    }
  },
  "cells": [
    {
      "cell_type": "markdown",
      "metadata": {
        "id": "view-in-github",
        "colab_type": "text"
      },
      "source": [
        "<a href=\"https://colab.research.google.com/github/drovosekovanton/Skillfactory_game/blob/master/Skillfactory_game.ipynb\" target=\"_parent\"><img src=\"https://colab.research.google.com/assets/colab-badge.svg\" alt=\"Open In Colab\"/></a>"
      ]
    },
    {
      "cell_type": "code",
      "metadata": {
        "id": "zstEI5lM-2WT",
        "colab_type": "code",
        "outputId": "6ceeecb5-9a76-4645-cd64-78f6400bc79a",
        "colab": {
          "base_uri": "https://localhost:8080/",
          "height": 34
        }
      },
      "source": [
        "import pandas as pd\n",
        "import numpy as np\n",
        "from pathlib import PurePath\n",
        "from collections import namedtuple\n",
        "from google.colab import drive\n",
        "import glob\n",
        "\n",
        "# mount root of your google drive to /content/drive\n",
        "drive.mount('/content/drive')\n",
        "# suppose that dataset inside 'Colab Notebooks/Skillfactory_game_data' of your google drive\n",
        "file_prefix = file_prefix = PurePath('/content/drive/My Drive/Colab Notebooks/Skillfactory_game_data')\n"
      ],
      "execution_count": 6,
      "outputs": [
        {
          "output_type": "stream",
          "text": [
            "Drive already mounted at /content/drive; to attempt to forcibly remount, call drive.mount(\"/content/drive\", force_remount=True).\n"
          ],
          "name": "stdout"
        }
      ]
    },
    {
      "cell_type": "markdown",
      "metadata": {
        "id": "geFZ4zbHBfYM",
        "colab_type": "text"
      },
      "source": [
        "**informations_households.csv**\n",
        "\n",
        "Информация о датчиках энергопотребления и краткие сведения о домах, в которых эти датчики установлены. Столбцы датафрейма:\n",
        "\n",
        "| LCLid | stdorToU | Acorn | Acorn_grouped | file |\n",
        "|:-|:-|:-|:-|:-|\n",
        "| id датчика | форма оплаты за электроэнергию в доме, в котором установлен датчик (Std – стандартная, ToU – Time of Use, оплата зависит от времени суток) | информация о том, к какой категории потребителей по системе ACORN относится семья, проживающая в данном доме |  | имя файла, содержащего показатели счётчиков |\n",
        "\n",
        "\n",
        "**halfhourly_dataset\\halfhourly_dataset\\block_{0 - 111}.csv**\n",
        "\n",
        "Архив содержит 112 файлов, содержащих данные об энергопотреблении, получаемые с каждого счётчика 1 раз в 30 минут. Каждый файл содержит информацию с датчиков, установленных в одном доме. Столбцы датафрейма:\n",
        "\n",
        "| LCLid | tstp | energy(kWh/hh) |\n",
        "|:-|:-|:-|\n",
        "| id датчика | дата и время фиксации показателей | уровень энергопотребления |\n",
        "\n",
        "**daily_dataset\\daily_dataset\\block_{0 - 111}.csv**\n",
        "\n",
        "Архив содержит 112 файлов, содержащих обобщённые данные об энергопотреблении за каждые сутки. Каждый файл содержит информацию с датчиков, установленных в одном доме. Столбцы датафрейма:\n",
        "\n",
        "| LCLid | day | energy_median | energy_mean | energy_max |energy_count|energy_std|energy_sum|energy_min|\n",
        "|:-|:-|:-|:-|:-|:-|:-|:-|:-|\n",
        "|id датчика|дата|медиана суточных показателей|среднее арифметическое суточных показателей|максимальное значение энергопотребления, зафиксированное датчиком в течение дня|количество показателей, зафиксированных датчиком в течение дня|стандартное отклонение|сумма значений всех показателей|минимальное значение энергопотребления, зафиксированное датчиком в течение дня|\n",
        "\n",
        "**acorn_details.csv**\n",
        "\n",
        "Данные о группах потребителей согласно классификации ACORN. При характеристике групп в данном датафрейме используется сравнение каждой группы с общенациональными показателями. Так, если значение ячейки по какому-либо показателю составляет 150 это означает, что в рассматриваемой группе этот показатель встречается в 1,5 раза чаще, чем в целом по стране. Столбцы датафрейма:\n",
        "- MAIN CATEGORIES, CATEGORIES, REFERENCE – показатели, по которым осуществляется сравнение групп;\n",
        "- ACORN-A, ACORN-B, ACORN-C, ACORN-D, ACORN-E, ACORN-F, ACORN-G, ACORN-H, ACORN-I, ACORN-J, ACORN-K, ACORN-L, ACORN-M, ACORN-N, ACORN-O, ACORN-P, ACORN-Q – частота встречаемости каждого из рассмотренных признаков в каждой группе.\n",
        "Использование данного файла при проведении анализа не является обязательным\n",
        "\n",
        "**weather_daily_darksky.csv**\n",
        "\n",
        "Обобщённые данные о погоде за день. Столбцы датафрейма:\n",
        "- temperatureMax – максимальное значение температуры воздуха;\n",
        "- temperatureMaxTime – время, когда была зафиксирована максимальная температура воздуха;\n",
        "- windBearing – направление ветра (по азимуту);\n",
        "- icon – стандартизованное словесное описание погодных условий;\n",
        "- dewPoint – точка росы;\n",
        "- temperatureMinTime – время, когда была зафиксирована минимальная температура воздуха;\n",
        "- cloudCover – облачность;\n",
        "- windSpeed – скорость ветра;\n",
        "- pressure – атмосферное давление;\n",
        "- apparentTemperatureMinTime – время, когда была зафиксирована минимальная температура комфорта;\n",
        "- apparentTemperatureHigh – дневная температура комфорта;\n",
        "- precipType – тип осадков;\n",
        "- visibility – видимость (в милях);\n",
        "- humidity – относительная влажность;\n",
        "- apparentTemperatureHighTime – время, когда была зафиксирована дневная температура комфорта;\n",
        "- apparentTemperatureLow – ночная температура комфорта;\n",
        "- apparentTemperatureMax – максимальная температура комфорта;\n",
        "- uvIndex – UV-индекс;\n",
        "- time – время начала сбора данных;\n",
        "- sunsetTime – время заката;\n",
        "- temperatureLow – минимальная ночная температура;\n",
        "- temperatureMin – минимальная температура за сутки;\n",
        "- temperatureHigh – максимальная дневная температура;\n",
        "- sunriseTime – время восхода;\n",
        "- temperatureHighTime – время, когда была зафиксирована максимальная дневная температура;\n",
        "- uvIndexTime – время, когда был зафиксирован максимальный UV-индекс;\n",
        "- summary – словесное описание погоды в течение дня (не рекомендуется использовать для автоматизированного анализа!);\n",
        "- temperatureLowTime – время, когда была зафиксирована минимальная ночная температура;\n",
        "- apparentTemperatureMin – минимальная температура комфорта;\n",
        "- apparentTemperatureMaxTime – время, когда была зафиксирована максимальная температура комфорта за сутки;\n",
        "- apparentTemperatureLowTime – время, когда была зафиксирована минимальная ночная температура комфорта; \n",
        "- moonPhase – фаза луны.\n",
        "\n",
        "**weather_hourly_darksky.csv**\n",
        "\n",
        "Почасовые сведения о погоде. Столбцы датафрейма:\n",
        "- visibility – видимость в милях;\n",
        "- windBearing – направление ветра (по азимуту);\n",
        "- temperature – температура воздуха;\n",
        "- time – время записи показателей;\n",
        "- dewPoint – точка росы;\n",
        "- pressure – атмосферное давление;\n",
        "- apparentTemperature – температура комфорта;\n",
        "- windSpeed – скорость ветра;\n",
        "- precipType – тип осадков;\n",
        "- icon – стандартизованное словесное описание погодных условий;\n",
        "- humidity – относительная влажность;\n",
        "- summary – нестандартизованное словесное описание погодных условий."
      ]
    },
    {
      "cell_type": "code",
      "metadata": {
        "id": "MWyIz2vR_IAE",
        "colab_type": "code",
        "colab": {}
      },
      "source": [
        "informations_households = pd.read_csv(file_prefix / 'informations_households.csv', index_col='LCLid')\n",
        "acorn_details = pd.read_csv(file_prefix / 'acorn_details.csv', encoding='cp1251')\n",
        "weather_daily_darksky = pd.read_csv(file_prefix / 'weather_daily_darksky.csv')\n",
        "weather_hourly_darksky = pd.read_csv(file_prefix / 'weather_hourly_darksky.csv')"
      ],
      "execution_count": 0,
      "outputs": []
    },
    {
      "cell_type": "code",
      "metadata": {
        "id": "4ex2nLXRB6sp",
        "colab_type": "code",
        "cellView": "code",
        "outputId": "b57e01c2-e0da-43aa-91ab-b77867453015",
        "colab": {
          "base_uri": "https://localhost:8080/",
          "height": 228
        }
      },
      "source": [
        "informations_households.sample(5)"
      ],
      "execution_count": 0,
      "outputs": [
        {
          "output_type": "execute_result",
          "data": {
            "text/html": [
              "<div>\n",
              "<style scoped>\n",
              "    .dataframe tbody tr th:only-of-type {\n",
              "        vertical-align: middle;\n",
              "    }\n",
              "\n",
              "    .dataframe tbody tr th {\n",
              "        vertical-align: top;\n",
              "    }\n",
              "\n",
              "    .dataframe thead th {\n",
              "        text-align: right;\n",
              "    }\n",
              "</style>\n",
              "<table border=\"1\" class=\"dataframe\">\n",
              "  <thead>\n",
              "    <tr style=\"text-align: right;\">\n",
              "      <th></th>\n",
              "      <th>stdorToU</th>\n",
              "      <th>Acorn</th>\n",
              "      <th>Acorn_grouped</th>\n",
              "      <th>file</th>\n",
              "    </tr>\n",
              "    <tr>\n",
              "      <th>LCLid</th>\n",
              "      <th></th>\n",
              "      <th></th>\n",
              "      <th></th>\n",
              "      <th></th>\n",
              "    </tr>\n",
              "  </thead>\n",
              "  <tbody>\n",
              "    <tr>\n",
              "      <th>MAC001497</th>\n",
              "      <td>Std</td>\n",
              "      <td>ACORN-H</td>\n",
              "      <td>Comfortable</td>\n",
              "      <td>block_70</td>\n",
              "    </tr>\n",
              "    <tr>\n",
              "      <th>MAC003757</th>\n",
              "      <td>Std</td>\n",
              "      <td>ACORN-L</td>\n",
              "      <td>Adversity</td>\n",
              "      <td>block_81</td>\n",
              "    </tr>\n",
              "    <tr>\n",
              "      <th>MAC001189</th>\n",
              "      <td>Std</td>\n",
              "      <td>ACORN-E</td>\n",
              "      <td>Affluent</td>\n",
              "      <td>block_37</td>\n",
              "    </tr>\n",
              "    <tr>\n",
              "      <th>MAC004979</th>\n",
              "      <td>ToU</td>\n",
              "      <td>ACORN-Q</td>\n",
              "      <td>Adversity</td>\n",
              "      <td>block_96</td>\n",
              "    </tr>\n",
              "    <tr>\n",
              "      <th>MAC001294</th>\n",
              "      <td>Std</td>\n",
              "      <td>ACORN-E</td>\n",
              "      <td>Affluent</td>\n",
              "      <td>block_37</td>\n",
              "    </tr>\n",
              "  </tbody>\n",
              "</table>\n",
              "</div>"
            ],
            "text/plain": [
              "          stdorToU    Acorn Acorn_grouped      file\n",
              "LCLid                                              \n",
              "MAC001497      Std  ACORN-H   Comfortable  block_70\n",
              "MAC003757      Std  ACORN-L     Adversity  block_81\n",
              "MAC001189      Std  ACORN-E      Affluent  block_37\n",
              "MAC004979      ToU  ACORN-Q     Adversity  block_96\n",
              "MAC001294      Std  ACORN-E      Affluent  block_37"
            ]
          },
          "metadata": {
            "tags": []
          },
          "execution_count": 12
        }
      ]
    },
    {
      "cell_type": "markdown",
      "metadata": {
        "id": "1oDdC84OCA-F",
        "colab_type": "text"
      },
      "source": [
        "## Общие данные по ACORN"
      ]
    },
    {
      "cell_type": "code",
      "metadata": {
        "id": "ZSegTXbRCEL0",
        "colab_type": "code",
        "outputId": "a6ca94ff-6d17-4106-bb20-2a3f77df71b6",
        "colab": {
          "base_uri": "https://localhost:8080/",
          "height": 383
        }
      },
      "source": [
        "# Details on the acorn groups and their profile of the people in the group\n",
        "# At a national scale, the index is 100\n",
        "# if for one column the value is 150 it means that there are 1.5 times more people\n",
        "# with this attribute in the ACORN group than at the national scale\n",
        "display(acorn_details.sample(3))\n",
        "\n",
        "display(acorn_details['MAIN CATEGORIES'].unique())\n",
        "# each main category has its subcategory\n",
        "display(acorn_details[acorn_details['MAIN CATEGORIES'] == 'FAMILY']['CATEGORIES'].unique())\n",
        "# and a reference for a certain subcategory\n",
        "# acorn_details['REFERENCE'].unique()\n",
        "# acorn_details[acorn_details['REFERENCE'] == 'Being mugged and robbed']"
      ],
      "execution_count": 0,
      "outputs": [
        {
          "output_type": "display_data",
          "data": {
            "text/html": [
              "<div>\n",
              "<style scoped>\n",
              "    .dataframe tbody tr th:only-of-type {\n",
              "        vertical-align: middle;\n",
              "    }\n",
              "\n",
              "    .dataframe tbody tr th {\n",
              "        vertical-align: top;\n",
              "    }\n",
              "\n",
              "    .dataframe thead th {\n",
              "        text-align: right;\n",
              "    }\n",
              "</style>\n",
              "<table border=\"1\" class=\"dataframe\">\n",
              "  <thead>\n",
              "    <tr style=\"text-align: right;\">\n",
              "      <th></th>\n",
              "      <th>MAIN CATEGORIES</th>\n",
              "      <th>CATEGORIES</th>\n",
              "      <th>REFERENCE</th>\n",
              "      <th>ACORN-A</th>\n",
              "      <th>ACORN-B</th>\n",
              "      <th>ACORN-C</th>\n",
              "      <th>ACORN-D</th>\n",
              "      <th>ACORN-E</th>\n",
              "      <th>ACORN-F</th>\n",
              "      <th>ACORN-G</th>\n",
              "      <th>ACORN-H</th>\n",
              "      <th>ACORN-I</th>\n",
              "      <th>ACORN-J</th>\n",
              "      <th>ACORN-K</th>\n",
              "      <th>ACORN-L</th>\n",
              "      <th>ACORN-M</th>\n",
              "      <th>ACORN-N</th>\n",
              "      <th>ACORN-O</th>\n",
              "      <th>ACORN-P</th>\n",
              "      <th>ACORN-Q</th>\n",
              "    </tr>\n",
              "  </thead>\n",
              "  <tbody>\n",
              "    <tr>\n",
              "      <th>494</th>\n",
              "      <td>DIGITAL</td>\n",
              "      <td>Regularly research on the internet</td>\n",
              "      <td>Musical equipment</td>\n",
              "      <td>109.0</td>\n",
              "      <td>109.0</td>\n",
              "      <td>112.0</td>\n",
              "      <td>117.0</td>\n",
              "      <td>101.0</td>\n",
              "      <td>104.0</td>\n",
              "      <td>117.0</td>\n",
              "      <td>97.0</td>\n",
              "      <td>72.0</td>\n",
              "      <td>96.0</td>\n",
              "      <td>212.0</td>\n",
              "      <td>99.0</td>\n",
              "      <td>92.0</td>\n",
              "      <td>57.0</td>\n",
              "      <td>103.0</td>\n",
              "      <td>87.0</td>\n",
              "      <td>74.0</td>\n",
              "    </tr>\n",
              "    <tr>\n",
              "      <th>575</th>\n",
              "      <td>DIGITAL</td>\n",
              "      <td>Sites regularly visited</td>\n",
              "      <td>Auto Trader</td>\n",
              "      <td>108.0</td>\n",
              "      <td>129.0</td>\n",
              "      <td>100.0</td>\n",
              "      <td>51.0</td>\n",
              "      <td>117.0</td>\n",
              "      <td>118.0</td>\n",
              "      <td>121.0</td>\n",
              "      <td>96.0</td>\n",
              "      <td>81.0</td>\n",
              "      <td>111.0</td>\n",
              "      <td>115.0</td>\n",
              "      <td>100.0</td>\n",
              "      <td>111.0</td>\n",
              "      <td>63.0</td>\n",
              "      <td>84.0</td>\n",
              "      <td>80.0</td>\n",
              "      <td>84.0</td>\n",
              "    </tr>\n",
              "    <tr>\n",
              "      <th>632</th>\n",
              "      <td>DIGITAL</td>\n",
              "      <td>Sites regularly visited</td>\n",
              "      <td>Sky Sports</td>\n",
              "      <td>59.0</td>\n",
              "      <td>103.0</td>\n",
              "      <td>100.0</td>\n",
              "      <td>100.0</td>\n",
              "      <td>105.0</td>\n",
              "      <td>74.0</td>\n",
              "      <td>100.0</td>\n",
              "      <td>100.0</td>\n",
              "      <td>61.0</td>\n",
              "      <td>129.0</td>\n",
              "      <td>88.0</td>\n",
              "      <td>124.0</td>\n",
              "      <td>100.0</td>\n",
              "      <td>90.0</td>\n",
              "      <td>100.0</td>\n",
              "      <td>100.0</td>\n",
              "      <td>100.0</td>\n",
              "    </tr>\n",
              "  </tbody>\n",
              "</table>\n",
              "</div>"
            ],
            "text/plain": [
              "    MAIN CATEGORIES                          CATEGORIES  ... ACORN-P  ACORN-Q\n",
              "494         DIGITAL  Regularly research on the internet  ...    87.0     74.0\n",
              "575         DIGITAL             Sites regularly visited  ...    80.0     84.0\n",
              "632         DIGITAL             Sites regularly visited  ...   100.0    100.0\n",
              "\n",
              "[3 rows x 20 columns]"
            ]
          },
          "metadata": {
            "tags": []
          }
        },
        {
          "output_type": "display_data",
          "data": {
            "text/plain": [
              "array(['POPULATION', 'HOUSING', 'FAMILY', 'ECONOMY', 'EDUCATION',\n",
              "       'HEALTH', 'TRANSPORT', 'MARKETING CHANNELS', 'FINANCE', 'DIGITAL',\n",
              "       'SHOPPING', 'CONTACT', 'ENVIRONMENT', 'COMMUNITY SAFETY',\n",
              "       'LEISURE TIME'], dtype=object)"
            ]
          },
          "metadata": {
            "tags": []
          }
        },
        {
          "output_type": "display_data",
          "data": {
            "text/plain": [
              "array(['Structure', 'Children in household', 'Household Size'],\n",
              "      dtype=object)"
            ]
          },
          "metadata": {
            "tags": []
          }
        }
      ]
    },
    {
      "cell_type": "code",
      "metadata": {
        "id": "lSDjJo8vCUXD",
        "colab_type": "code",
        "outputId": "670b8278-4811-4007-a181-6aa96ef3039e",
        "colab": {
          "base_uri": "https://localhost:8080/",
          "height": 743
        }
      },
      "source": [
        "# common details over population\n",
        "display(acorn_details.drop_duplicates(subset=['MAIN CATEGORIES'])['MAIN CATEGORIES'])\n",
        "display(acorn_details.drop_duplicates(subset=['MAIN CATEGORIES', 'CATEGORIES']).set_index(['MAIN CATEGORIES'])['CATEGORIES'])\n",
        "display(acorn_details.drop_duplicates(subset=['MAIN CATEGORIES', 'CATEGORIES', 'REFERENCE']).set_index(['MAIN CATEGORIES', 'CATEGORIES'])['REFERENCE'])"
      ],
      "execution_count": 0,
      "outputs": [
        {
          "output_type": "display_data",
          "data": {
            "text/plain": [
              "0              POPULATION\n",
              "35                HOUSING\n",
              "59                 FAMILY\n",
              "74                ECONOMY\n",
              "108             EDUCATION\n",
              "127                HEALTH\n",
              "134             TRANSPORT\n",
              "159    MARKETING CHANNELS\n",
              "186               FINANCE\n",
              "280               DIGITAL\n",
              "652              SHOPPING\n",
              "696               CONTACT\n",
              "700           ENVIRONMENT\n",
              "712      COMMUNITY SAFETY\n",
              "734          LEISURE TIME\n",
              "Name: MAIN CATEGORIES, dtype: object"
            ]
          },
          "metadata": {
            "tags": []
          }
        },
        {
          "output_type": "display_data",
          "data": {
            "text/plain": [
              "MAIN CATEGORIES\n",
              "POPULATION                                   Age\n",
              "POPULATION                             Geography\n",
              "POPULATION                             Ethnicity\n",
              "POPULATION                      Country of Birth\n",
              "POPULATION                              Religion\n",
              "                              ...               \n",
              "LEISURE TIME    Visit Pubs for a Drink - Evening\n",
              "LEISURE TIME         Visit Pubs for a Meal - Day\n",
              "LEISURE TIME     Visit Pubs for a Meal - Evening\n",
              "LEISURE TIME            Restaurants - Most Often\n",
              "LEISURE TIME            Holiday Destination/Type\n",
              "Name: CATEGORIES, Length: 84, dtype: object"
            ]
          },
          "metadata": {
            "tags": []
          }
        },
        {
          "output_type": "display_data",
          "data": {
            "text/plain": [
              "MAIN CATEGORIES  CATEGORIES              \n",
              "POPULATION       Age                                           Age 0-4\n",
              "                 Age                                          Age 5-17\n",
              "                 Age                                         Age 18-24\n",
              "                 Age                                         Age 25-34\n",
              "                 Age                                         Age 35-49\n",
              "                                                       ...            \n",
              "LEISURE TIME     Holiday Destination/Type                         Asia\n",
              "                 Holiday Destination/Type    Activity / Outdoor Sports\n",
              "                 Holiday Destination/Type                       Cruise\n",
              "                 Holiday Destination/Type                      Package\n",
              "                 Holiday Destination/Type                Self-catering\n",
              "Name: REFERENCE, Length: 826, dtype: object"
            ]
          },
          "metadata": {
            "tags": []
          }
        }
      ]
    },
    {
      "cell_type": "markdown",
      "metadata": {
        "id": "8LkiYMBGCfDw",
        "colab_type": "text"
      },
      "source": [
        "## группы по ACORN среди потребителей в датасете"
      ]
    },
    {
      "cell_type": "code",
      "metadata": {
        "id": "9YLOab2ICgNt",
        "colab_type": "code",
        "outputId": "07af9444-e746-4abe-a8ea-522bd6c734f6",
        "colab": {
          "base_uri": "https://localhost:8080/",
          "height": 415
        }
      },
      "source": [
        "# группы потребителей по ACORN\n",
        "\n",
        "display(informations_households['Acorn_grouped'].unique())\n",
        "# Присутствует 'ACORN-U(nclassified)' который не принадлежит ни одной ACORN-метрике,\n",
        "# возможно, нам придётся его дропать при обработке по группам ACORN\n",
        "# Также присутствует 'ACORN-' - скорее всего, битые данные, надо их отбросить\n",
        "# Affluent - обеспеченный класс \n",
        "# Comfortable - средний класс\n",
        "# Adversity - низший класс\n",
        "display(informations_households.groupby(['Acorn', 'Acorn_grouped'])['file'].count())\n",
        "display(informations_households = informations_households[informations_households['Acorn'] != 'ACORN-'])"
      ],
      "execution_count": 0,
      "outputs": [
        {
          "output_type": "display_data",
          "data": {
            "text/plain": [
              "array(['ACORN-', 'Affluent', 'Comfortable', 'Adversity', 'ACORN-U'],\n",
              "      dtype=object)"
            ]
          },
          "metadata": {
            "tags": []
          }
        },
        {
          "output_type": "display_data",
          "data": {
            "text/plain": [
              "Acorn    Acorn_grouped\n",
              "ACORN-   ACORN-              2\n",
              "ACORN-A  Affluent          157\n",
              "ACORN-B  Affluent           25\n",
              "ACORN-C  Affluent          151\n",
              "ACORN-D  Affluent          292\n",
              "ACORN-E  Affluent         1567\n",
              "ACORN-F  Comfortable       684\n",
              "ACORN-G  Comfortable       205\n",
              "ACORN-H  Comfortable       455\n",
              "ACORN-I  Comfortable        51\n",
              "ACORN-J  Comfortable       112\n",
              "ACORN-K  Adversity         165\n",
              "ACORN-L  Adversity         342\n",
              "ACORN-M  Adversity         113\n",
              "ACORN-N  Adversity         152\n",
              "ACORN-O  Adversity         103\n",
              "ACORN-P  Adversity         110\n",
              "ACORN-Q  Adversity         831\n",
              "ACORN-U  ACORN-U            49\n",
              "Name: file, dtype: int64"
            ]
          },
          "metadata": {
            "tags": []
          }
        }
      ]
    },
    {
      "cell_type": "markdown",
      "metadata": {
        "id": "iRQVqugZCsqy",
        "colab_type": "text"
      },
      "source": [
        "## Погодные данные"
      ]
    },
    {
      "cell_type": "code",
      "metadata": {
        "id": "cgnDS_VfCtkH",
        "colab_type": "code",
        "outputId": "95de4253-099f-482d-de47-3544aa86dd74",
        "colab": {
          "base_uri": "https://localhost:8080/",
          "height": 866
        }
      },
      "source": [
        "display(weather_daily_darksky.head())\n",
        "display(weather_hourly_darksky.head())"
      ],
      "execution_count": 0,
      "outputs": [
        {
          "output_type": "display_data",
          "data": {
            "text/html": [
              "<div>\n",
              "<style scoped>\n",
              "    .dataframe tbody tr th:only-of-type {\n",
              "        vertical-align: middle;\n",
              "    }\n",
              "\n",
              "    .dataframe tbody tr th {\n",
              "        vertical-align: top;\n",
              "    }\n",
              "\n",
              "    .dataframe thead th {\n",
              "        text-align: right;\n",
              "    }\n",
              "</style>\n",
              "<table border=\"1\" class=\"dataframe\">\n",
              "  <thead>\n",
              "    <tr style=\"text-align: right;\">\n",
              "      <th></th>\n",
              "      <th>temperatureMax</th>\n",
              "      <th>temperatureMaxTime</th>\n",
              "      <th>windBearing</th>\n",
              "      <th>icon</th>\n",
              "      <th>dewPoint</th>\n",
              "      <th>temperatureMinTime</th>\n",
              "      <th>cloudCover</th>\n",
              "      <th>windSpeed</th>\n",
              "      <th>pressure</th>\n",
              "      <th>apparentTemperatureMinTime</th>\n",
              "      <th>apparentTemperatureHigh</th>\n",
              "      <th>precipType</th>\n",
              "      <th>visibility</th>\n",
              "      <th>humidity</th>\n",
              "      <th>apparentTemperatureHighTime</th>\n",
              "      <th>apparentTemperatureLow</th>\n",
              "      <th>apparentTemperatureMax</th>\n",
              "      <th>uvIndex</th>\n",
              "      <th>time</th>\n",
              "      <th>sunsetTime</th>\n",
              "      <th>temperatureLow</th>\n",
              "      <th>temperatureMin</th>\n",
              "      <th>temperatureHigh</th>\n",
              "      <th>sunriseTime</th>\n",
              "      <th>temperatureHighTime</th>\n",
              "      <th>uvIndexTime</th>\n",
              "      <th>summary</th>\n",
              "      <th>temperatureLowTime</th>\n",
              "      <th>apparentTemperatureMin</th>\n",
              "      <th>apparentTemperatureMaxTime</th>\n",
              "      <th>apparentTemperatureLowTime</th>\n",
              "      <th>moonPhase</th>\n",
              "    </tr>\n",
              "  </thead>\n",
              "  <tbody>\n",
              "    <tr>\n",
              "      <th>0</th>\n",
              "      <td>11.96</td>\n",
              "      <td>2011-11-11 23:00:00</td>\n",
              "      <td>123</td>\n",
              "      <td>fog</td>\n",
              "      <td>9.40</td>\n",
              "      <td>2011-11-11 07:00:00</td>\n",
              "      <td>0.79</td>\n",
              "      <td>3.88</td>\n",
              "      <td>1016.08</td>\n",
              "      <td>2011-11-11 07:00:00</td>\n",
              "      <td>10.87</td>\n",
              "      <td>rain</td>\n",
              "      <td>3.30</td>\n",
              "      <td>0.95</td>\n",
              "      <td>2011-11-11 19:00:00</td>\n",
              "      <td>10.87</td>\n",
              "      <td>11.96</td>\n",
              "      <td>1.0</td>\n",
              "      <td>2011-11-11 00:00:00</td>\n",
              "      <td>2011-11-11 16:19:21</td>\n",
              "      <td>10.87</td>\n",
              "      <td>8.85</td>\n",
              "      <td>10.87</td>\n",
              "      <td>2011-11-11 07:12:14</td>\n",
              "      <td>2011-11-11 19:00:00</td>\n",
              "      <td>2011-11-11 11:00:00</td>\n",
              "      <td>Foggy until afternoon.</td>\n",
              "      <td>2011-11-11 19:00:00</td>\n",
              "      <td>6.48</td>\n",
              "      <td>2011-11-11 23:00:00</td>\n",
              "      <td>2011-11-11 19:00:00</td>\n",
              "      <td>0.52</td>\n",
              "    </tr>\n",
              "    <tr>\n",
              "      <th>1</th>\n",
              "      <td>8.59</td>\n",
              "      <td>2011-12-11 14:00:00</td>\n",
              "      <td>198</td>\n",
              "      <td>partly-cloudy-day</td>\n",
              "      <td>4.49</td>\n",
              "      <td>2011-12-11 01:00:00</td>\n",
              "      <td>0.56</td>\n",
              "      <td>3.94</td>\n",
              "      <td>1007.71</td>\n",
              "      <td>2011-12-11 02:00:00</td>\n",
              "      <td>5.62</td>\n",
              "      <td>rain</td>\n",
              "      <td>12.09</td>\n",
              "      <td>0.88</td>\n",
              "      <td>2011-12-11 19:00:00</td>\n",
              "      <td>-0.64</td>\n",
              "      <td>5.72</td>\n",
              "      <td>1.0</td>\n",
              "      <td>2011-12-11 00:00:00</td>\n",
              "      <td>2011-12-11 15:52:53</td>\n",
              "      <td>3.09</td>\n",
              "      <td>2.48</td>\n",
              "      <td>8.59</td>\n",
              "      <td>2011-12-11 07:57:02</td>\n",
              "      <td>2011-12-11 14:00:00</td>\n",
              "      <td>2011-12-11 12:00:00</td>\n",
              "      <td>Partly cloudy throughout the day.</td>\n",
              "      <td>2011-12-12 07:00:00</td>\n",
              "      <td>0.11</td>\n",
              "      <td>2011-12-11 20:00:00</td>\n",
              "      <td>2011-12-12 08:00:00</td>\n",
              "      <td>0.53</td>\n",
              "    </tr>\n",
              "    <tr>\n",
              "      <th>2</th>\n",
              "      <td>10.33</td>\n",
              "      <td>2011-12-27 02:00:00</td>\n",
              "      <td>225</td>\n",
              "      <td>partly-cloudy-day</td>\n",
              "      <td>5.47</td>\n",
              "      <td>2011-12-27 23:00:00</td>\n",
              "      <td>0.85</td>\n",
              "      <td>3.54</td>\n",
              "      <td>1032.76</td>\n",
              "      <td>2011-12-27 22:00:00</td>\n",
              "      <td>10.33</td>\n",
              "      <td>rain</td>\n",
              "      <td>13.39</td>\n",
              "      <td>0.74</td>\n",
              "      <td>2011-12-27 14:00:00</td>\n",
              "      <td>5.52</td>\n",
              "      <td>10.33</td>\n",
              "      <td>0.0</td>\n",
              "      <td>2011-12-27 00:00:00</td>\n",
              "      <td>2011-12-27 15:57:56</td>\n",
              "      <td>8.03</td>\n",
              "      <td>8.03</td>\n",
              "      <td>10.33</td>\n",
              "      <td>2011-12-27 08:07:06</td>\n",
              "      <td>2011-12-27 14:00:00</td>\n",
              "      <td>2011-12-27 00:00:00</td>\n",
              "      <td>Mostly cloudy throughout the day.</td>\n",
              "      <td>2011-12-27 23:00:00</td>\n",
              "      <td>5.59</td>\n",
              "      <td>2011-12-27 02:00:00</td>\n",
              "      <td>2011-12-28 00:00:00</td>\n",
              "      <td>0.10</td>\n",
              "    </tr>\n",
              "    <tr>\n",
              "      <th>3</th>\n",
              "      <td>8.07</td>\n",
              "      <td>2011-12-02 23:00:00</td>\n",
              "      <td>232</td>\n",
              "      <td>wind</td>\n",
              "      <td>3.69</td>\n",
              "      <td>2011-12-02 07:00:00</td>\n",
              "      <td>0.32</td>\n",
              "      <td>3.00</td>\n",
              "      <td>1012.12</td>\n",
              "      <td>2011-12-02 07:00:00</td>\n",
              "      <td>5.33</td>\n",
              "      <td>rain</td>\n",
              "      <td>11.89</td>\n",
              "      <td>0.87</td>\n",
              "      <td>2011-12-02 12:00:00</td>\n",
              "      <td>3.26</td>\n",
              "      <td>5.33</td>\n",
              "      <td>1.0</td>\n",
              "      <td>2011-12-02 00:00:00</td>\n",
              "      <td>2011-12-02 15:56:17</td>\n",
              "      <td>6.33</td>\n",
              "      <td>2.56</td>\n",
              "      <td>7.36</td>\n",
              "      <td>2011-12-02 07:46:09</td>\n",
              "      <td>2011-12-02 12:00:00</td>\n",
              "      <td>2011-12-02 10:00:00</td>\n",
              "      <td>Partly cloudy throughout the day and breezy ov...</td>\n",
              "      <td>2011-12-02 19:00:00</td>\n",
              "      <td>0.46</td>\n",
              "      <td>2011-12-02 12:00:00</td>\n",
              "      <td>2011-12-02 19:00:00</td>\n",
              "      <td>0.25</td>\n",
              "    </tr>\n",
              "    <tr>\n",
              "      <th>4</th>\n",
              "      <td>8.22</td>\n",
              "      <td>2011-12-24 23:00:00</td>\n",
              "      <td>252</td>\n",
              "      <td>partly-cloudy-night</td>\n",
              "      <td>2.79</td>\n",
              "      <td>2011-12-24 07:00:00</td>\n",
              "      <td>0.37</td>\n",
              "      <td>4.46</td>\n",
              "      <td>1028.17</td>\n",
              "      <td>2011-12-24 07:00:00</td>\n",
              "      <td>5.02</td>\n",
              "      <td>rain</td>\n",
              "      <td>13.16</td>\n",
              "      <td>0.80</td>\n",
              "      <td>2011-12-24 15:00:00</td>\n",
              "      <td>4.37</td>\n",
              "      <td>5.32</td>\n",
              "      <td>1.0</td>\n",
              "      <td>2011-12-24 00:00:00</td>\n",
              "      <td>2011-12-24 15:55:55</td>\n",
              "      <td>7.45</td>\n",
              "      <td>3.17</td>\n",
              "      <td>7.93</td>\n",
              "      <td>2011-12-24 08:06:15</td>\n",
              "      <td>2011-12-24 15:00:00</td>\n",
              "      <td>2011-12-24 13:00:00</td>\n",
              "      <td>Mostly cloudy throughout the day.</td>\n",
              "      <td>2011-12-24 19:00:00</td>\n",
              "      <td>-0.51</td>\n",
              "      <td>2011-12-24 23:00:00</td>\n",
              "      <td>2011-12-24 20:00:00</td>\n",
              "      <td>0.99</td>\n",
              "    </tr>\n",
              "  </tbody>\n",
              "</table>\n",
              "</div>"
            ],
            "text/plain": [
              "   temperatureMax   temperatureMaxTime  ...  apparentTemperatureLowTime moonPhase\n",
              "0           11.96  2011-11-11 23:00:00  ...         2011-11-11 19:00:00      0.52\n",
              "1            8.59  2011-12-11 14:00:00  ...         2011-12-12 08:00:00      0.53\n",
              "2           10.33  2011-12-27 02:00:00  ...         2011-12-28 00:00:00      0.10\n",
              "3            8.07  2011-12-02 23:00:00  ...         2011-12-02 19:00:00      0.25\n",
              "4            8.22  2011-12-24 23:00:00  ...         2011-12-24 20:00:00      0.99\n",
              "\n",
              "[5 rows x 32 columns]"
            ]
          },
          "metadata": {
            "tags": []
          }
        },
        {
          "output_type": "display_data",
          "data": {
            "text/html": [
              "<div>\n",
              "<style scoped>\n",
              "    .dataframe tbody tr th:only-of-type {\n",
              "        vertical-align: middle;\n",
              "    }\n",
              "\n",
              "    .dataframe tbody tr th {\n",
              "        vertical-align: top;\n",
              "    }\n",
              "\n",
              "    .dataframe thead th {\n",
              "        text-align: right;\n",
              "    }\n",
              "</style>\n",
              "<table border=\"1\" class=\"dataframe\">\n",
              "  <thead>\n",
              "    <tr style=\"text-align: right;\">\n",
              "      <th></th>\n",
              "      <th>visibility</th>\n",
              "      <th>windBearing</th>\n",
              "      <th>temperature</th>\n",
              "      <th>time</th>\n",
              "      <th>dewPoint</th>\n",
              "      <th>pressure</th>\n",
              "      <th>apparentTemperature</th>\n",
              "      <th>windSpeed</th>\n",
              "      <th>precipType</th>\n",
              "      <th>icon</th>\n",
              "      <th>humidity</th>\n",
              "      <th>summary</th>\n",
              "    </tr>\n",
              "  </thead>\n",
              "  <tbody>\n",
              "    <tr>\n",
              "      <th>0</th>\n",
              "      <td>5.97</td>\n",
              "      <td>104</td>\n",
              "      <td>10.24</td>\n",
              "      <td>2011-11-11 00:00:00</td>\n",
              "      <td>8.86</td>\n",
              "      <td>1016.76</td>\n",
              "      <td>10.24</td>\n",
              "      <td>2.77</td>\n",
              "      <td>rain</td>\n",
              "      <td>partly-cloudy-night</td>\n",
              "      <td>0.91</td>\n",
              "      <td>Partly Cloudy</td>\n",
              "    </tr>\n",
              "    <tr>\n",
              "      <th>1</th>\n",
              "      <td>4.88</td>\n",
              "      <td>99</td>\n",
              "      <td>9.76</td>\n",
              "      <td>2011-11-11 01:00:00</td>\n",
              "      <td>8.83</td>\n",
              "      <td>1016.63</td>\n",
              "      <td>8.24</td>\n",
              "      <td>2.95</td>\n",
              "      <td>rain</td>\n",
              "      <td>partly-cloudy-night</td>\n",
              "      <td>0.94</td>\n",
              "      <td>Partly Cloudy</td>\n",
              "    </tr>\n",
              "    <tr>\n",
              "      <th>2</th>\n",
              "      <td>3.70</td>\n",
              "      <td>98</td>\n",
              "      <td>9.46</td>\n",
              "      <td>2011-11-11 02:00:00</td>\n",
              "      <td>8.79</td>\n",
              "      <td>1016.36</td>\n",
              "      <td>7.76</td>\n",
              "      <td>3.17</td>\n",
              "      <td>rain</td>\n",
              "      <td>partly-cloudy-night</td>\n",
              "      <td>0.96</td>\n",
              "      <td>Partly Cloudy</td>\n",
              "    </tr>\n",
              "    <tr>\n",
              "      <th>3</th>\n",
              "      <td>3.12</td>\n",
              "      <td>99</td>\n",
              "      <td>9.23</td>\n",
              "      <td>2011-11-11 03:00:00</td>\n",
              "      <td>8.63</td>\n",
              "      <td>1016.28</td>\n",
              "      <td>7.44</td>\n",
              "      <td>3.25</td>\n",
              "      <td>rain</td>\n",
              "      <td>fog</td>\n",
              "      <td>0.96</td>\n",
              "      <td>Foggy</td>\n",
              "    </tr>\n",
              "    <tr>\n",
              "      <th>4</th>\n",
              "      <td>1.85</td>\n",
              "      <td>111</td>\n",
              "      <td>9.26</td>\n",
              "      <td>2011-11-11 04:00:00</td>\n",
              "      <td>9.21</td>\n",
              "      <td>1015.98</td>\n",
              "      <td>7.24</td>\n",
              "      <td>3.70</td>\n",
              "      <td>rain</td>\n",
              "      <td>fog</td>\n",
              "      <td>1.00</td>\n",
              "      <td>Foggy</td>\n",
              "    </tr>\n",
              "  </tbody>\n",
              "</table>\n",
              "</div>"
            ],
            "text/plain": [
              "   visibility  windBearing  ...  humidity        summary\n",
              "0        5.97          104  ...      0.91  Partly Cloudy\n",
              "1        4.88           99  ...      0.94  Partly Cloudy\n",
              "2        3.70           98  ...      0.96  Partly Cloudy\n",
              "3        3.12           99  ...      0.96          Foggy\n",
              "4        1.85          111  ...      1.00          Foggy\n",
              "\n",
              "[5 rows x 12 columns]"
            ]
          },
          "metadata": {
            "tags": []
          }
        }
      ]
    },
    {
      "cell_type": "markdown",
      "metadata": {
        "id": "6ZTbkyFTC5FJ",
        "colab_type": "text"
      },
      "source": [
        "## Работа с данными\n"
      ]
    },
    {
      "cell_type": "code",
      "metadata": {
        "id": "AlA5y7fjC5v-",
        "colab_type": "code",
        "outputId": "14ab6ee4-c1fb-41b3-b73f-3e4493f420c3",
        "colab": {
          "base_uri": "https://localhost:8080/",
          "height": 138
        }
      },
      "source": [
        "LCLid_full_data = namedtuple('LCLid_full_data',\n",
        "                             ['LCLid',\n",
        "                              'Acorn',  # Acorn category group\n",
        "                              'Acorn_grouped',  # common subdivision over Acorn groups\n",
        "                              'stdorToU',  # Standart or TimeOfUse\n",
        "                              'consumption']  # returns DataFrame\n",
        "                            )\n",
        "\n",
        "def retrieve_LCLid_full_data(LCLid):\n",
        "# запрос всех данных потребителя по его LCLid\n",
        "    LCLid_series = informations_households.loc[LCLid]\n",
        "    file = LCLid_series['file']\n",
        "    hh_ds_block = pd.read_csv(\n",
        "        file_prefix / 'halfhourly_dataset' / f'{file}.csv.zip', index_col='LCLid')\n",
        "    hh_ds_block = hh_ds_block.loc[LCLid]\n",
        "\n",
        "    return LCLid_full_data(\n",
        "        LCLid=LCLid,\n",
        "        Acorn=LCLid_series['Acorn'],\n",
        "        Acorn_grouped=LCLid_series['Acorn_grouped'],\n",
        "        stdorToU=LCLid_series['stdorToU'],\n",
        "        consumption=hh_ds_block\n",
        "    )\n",
        "\n",
        "z = retrieve_LCLid_full_data('MAC003597')\n",
        "z.Acorn\n",
        "z.consumption.sample(5)\n",
        "z.consumption.info()"
      ],
      "execution_count": 0,
      "outputs": [
        {
          "output_type": "stream",
          "text": [
            "<class 'pandas.core.frame.DataFrame'>\n",
            "Index: 24215 entries, MAC003597 to MAC003597\n",
            "Data columns (total 2 columns):\n",
            "tstp              24215 non-null object\n",
            "energy(kWh/hh)    24215 non-null object\n",
            "dtypes: object(2)\n",
            "memory usage: 567.5+ KB\n"
          ],
          "name": "stdout"
        }
      ]
    },
    {
      "cell_type": "code",
      "metadata": {
        "id": "JzI0ZmkRC88u",
        "colab_type": "code",
        "colab": {}
      },
      "source": [
        "consumption = pd.DataFrame(columns=['tstp','energy'])\n",
        "\n",
        "count_tables = 0\n",
        "\n",
        "for file in glob.glob(str(file_prefix / 'halfhourly_dataset' / '*.*')):\n",
        "    print(f'DEBUG: file={file}')\n",
        "    temp = pd.read_csv(\n",
        "        file,\n",
        "        parse_dates=['tstp'],\n",
        "        infer_datetime_format=True,\n",
        "        compression='infer',\n",
        "        na_values='Null',\n",
        "        keep_default_na=True,\n",
        "        index_col='LCLid'\n",
        "    )\n",
        "    temp.columns = ['tstp', 'energy']\n",
        "    temp.fillna(0, inplace=True)\n",
        "    temp['energy'] = temp['energy'].astype(np.float16, copy=False)\n",
        "    # TODO: now we need to concat two halves of an hour \n",
        "    consumption = pd.concat([consumption, temp], copy=False)\n",
        "\n",
        "    count_tables += 1\n",
        "    if count_tables > 5:\n",
        "        break\n",
        "    \n",
        "display(consumption.sample(10))\n",
        "display(consumption.info())\n"
      ],
      "execution_count": 0,
      "outputs": []
    },
    {
      "cell_type": "code",
      "metadata": {
        "id": "lDzARiT1lX3V",
        "colab_type": "code",
        "colab": {}
      },
      "source": [
        "del consumption"
      ],
      "execution_count": 0,
      "outputs": []
    },
    {
      "cell_type": "code",
      "metadata": {
        "id": "_kP5j_7pMVfx",
        "colab_type": "code",
        "colab": {}
      },
      "source": [
        "file_path = glob.glob(str(file_prefix / 'halfhourly_dataset' / \"***.zip\"))\n",
        "for file in file_path:\n",
        "  print(file)"
      ],
      "execution_count": 0,
      "outputs": []
    }
  ]
}