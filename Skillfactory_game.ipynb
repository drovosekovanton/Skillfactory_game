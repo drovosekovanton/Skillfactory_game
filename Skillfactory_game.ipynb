{
  "nbformat": 4,
  "nbformat_minor": 0,
  "metadata": {
    "colab": {
      "name": "Skillfactory_game.ipynb",
      "provenance": [],
      "collapsed_sections": [],
      "toc_visible": true,
      "authorship_tag": "ABX9TyNGc2u16+F9aoa6Iw7kPuyt",
      "include_colab_link": true
    },
    "kernelspec": {
      "name": "python3",
      "display_name": "Python 3"
    }
  },
  "cells": [
    {
      "cell_type": "markdown",
      "metadata": {
        "id": "view-in-github",
        "colab_type": "text"
      },
      "source": [
        "<a href=\"https://colab.research.google.com/github/drovosekovanton/Skillfactory_game/blob/master/Skillfactory_game.ipynb\" target=\"_parent\"><img src=\"https://colab.research.google.com/assets/colab-badge.svg\" alt=\"Open In Colab\"/></a>"
      ]
    },
    {
      "cell_type": "markdown",
      "metadata": {
        "id": "ZfSMxZVSXjr_",
        "colab_type": "text"
      },
      "source": [
        "# Подготовка"
      ]
    },
    {
      "cell_type": "markdown",
      "metadata": {
        "id": "aP4cfMU_9fbi",
        "colab_type": "text"
      },
      "source": [
        "### Импорт используемых библиотек"
      ]
    },
    {
      "cell_type": "code",
      "metadata": {
        "id": "zstEI5lM-2WT",
        "colab_type": "code",
        "outputId": "4f26abb1-2752-456d-a4b8-4f80de215a04",
        "colab": {
          "base_uri": "https://localhost:8080/",
          "height": 124
        }
      },
      "source": [
        "import pandas as pd\n",
        "import numpy as np\n",
        "from pathlib import PurePath\n",
        "from collections import namedtuple\n",
        "from google.colab import drive\n",
        "import os\n",
        "from datetime import datetime, timedelta\n",
        "import progressbar\n",
        "import matplotlib.pyplot as plt\n",
        "import seaborn as sns\n",
        "import warnings; warnings.simplefilter('ignore')\n",
        "\n",
        "\n",
        "# mount root of your google drive to '/content/drive'\n",
        "drive.mount('/content/drive')\n",
        "# suppose that dataset is inside \n",
        "# 'Colab Notebooks/Skillfactory_game_data' folder\n",
        "file_prefix = PurePath('/content/drive/My Drive/'\n",
        "                        'Colab Notebooks/Skillfactory_game_data')\n",
        "\n",
        "# some plot stuff\n",
        "%matplotlib inline\n",
        "sns.set()\n"
      ],
      "execution_count": 1,
      "outputs": [
        {
          "output_type": "stream",
          "text": [
            "Go to this URL in a browser: https://accounts.google.com/o/oauth2/auth?client_id=947318989803-6bn6qk8qdgf4n4g3pfee6491hc0brc4i.apps.googleusercontent.com&redirect_uri=urn%3aietf%3awg%3aoauth%3a2.0%3aoob&response_type=code&scope=email%20https%3a%2f%2fwww.googleapis.com%2fauth%2fdocs.test%20https%3a%2f%2fwww.googleapis.com%2fauth%2fdrive%20https%3a%2f%2fwww.googleapis.com%2fauth%2fdrive.photos.readonly%20https%3a%2f%2fwww.googleapis.com%2fauth%2fpeopleapi.readonly\n",
            "\n",
            "Enter your authorization code:\n",
            "··········\n",
            "Mounted at /content/drive\n"
          ],
          "name": "stdout"
        }
      ]
    },
    {
      "cell_type": "markdown",
      "metadata": {
        "id": "pG1_s71o7-2g",
        "colab_type": "text"
      },
      "source": [
        "### `Описание файлов датасета`"
      ]
    },
    {
      "cell_type": "markdown",
      "metadata": {
        "id": "geFZ4zbHBfYM",
        "colab_type": "text"
      },
      "source": [
        "**informations_households.csv**\n",
        "\n",
        "Информация о датчиках энергопотребления и краткие сведения о домах, в которых эти датчики установлены. Столбцы датафрейма:\n",
        "\n",
        "| LCLid | stdorToU | Acorn | Acorn_grouped | file |\n",
        "|:-|:-|:-|:-|:-|\n",
        "| id датчика | форма оплаты за электроэнергию в доме, в котором установлен датчик (Std – стандартная, ToU – Time of Use, оплата зависит от времени суток) | информация о том, к какой категории потребителей по системе ACORN относится семья, проживающая в данном доме |  | имя файла, содержащего показатели счётчиков |\n",
        "\n",
        "\n",
        "**halfhourly_dataset\\block_{0 - 111}.csv**\n",
        "\n",
        "Архив содержит 112 файлов, содержащих данные об энергопотреблении, получаемые с каждого счётчика 1 раз в 30 минут. Каждый файл содержит информацию с датчиков, установленных в одном доме. Столбцы датафрейма:\n",
        "\n",
        "| LCLid | tstp | energy(kWh/hh) |\n",
        "|:-|:-|:-|\n",
        "| id датчика | дата и время фиксации показателей | уровень энергопотребления |\n",
        "\n",
        "**hourly_dataset\\block_{0 - 111}.csv**\n",
        "\n",
        "Архив содержит 112 файлов, содержащих данные об энергопотреблении, получаемые с каждого счётчика 1 раз в час. Каждый файл содержит информацию с датчиков, установленных в одном доме. Столбцы датафрейма:\n",
        "\n",
        "| LCLid | tstp | energy |\n",
        "|:-|:-|:-|\n",
        "| id датчика | дата и время фиксации показателей | уровень энергопотребления |\n",
        "\n",
        "**daily_dataset\\daily_dataset\\block_{0 - 111}.csv**\n",
        "\n",
        "Архив содержит 112 файлов, содержащих обобщённые данные об энергопотреблении за каждые сутки. Каждый файл содержит информацию с датчиков, установленных в одном доме. Столбцы датафрейма:\n",
        "\n",
        "| LCLid | day | energy_median | energy_mean | energy_max |energy_count|energy_std|energy_sum|energy_min|\n",
        "|:-|:-|:-|:-|:-|:-|:-|:-|:-|\n",
        "|id датчика|дата|медиана суточных показателей|среднее арифметическое суточных показателей|максимальное значение энергопотребления, зафиксированное датчиком в течение дня|количество показателей, зафиксированных датчиком в течение дня|стандартное отклонение|сумма значений всех показателей|минимальное значение энергопотребления, зафиксированное датчиком в течение дня|\n",
        "\n",
        "**acorn_details.csv**\n",
        "\n",
        "Данные о группах потребителей согласно классификации ACORN. При характеристике групп в данном датафрейме используется сравнение каждой группы с общенациональными показателями. Так, если значение ячейки по какому-либо показателю составляет 150 это означает, что в рассматриваемой группе этот показатель встречается в 1,5 раза чаще, чем в целом по стране. Столбцы датафрейма:\n",
        "- MAIN CATEGORIES, CATEGORIES, REFERENCE – показатели, по которым осуществляется сравнение групп;\n",
        "- ACORN-A, ACORN-B, ACORN-C, ACORN-D, ACORN-E, ACORN-F, ACORN-G, ACORN-H, ACORN-I, ACORN-J, ACORN-K, ACORN-L, ACORN-M, ACORN-N, ACORN-O, ACORN-P, ACORN-Q – частота встречаемости каждого из рассмотренных признаков в каждой группе.\n",
        "Использование данного файла при проведении анализа не является обязательным\n",
        "\n",
        "**weather_daily_darksky.csv**\n",
        "\n",
        "Обобщённые данные о погоде за день. Столбцы датафрейма:\n",
        "- temperatureMax – максимальное значение температуры воздуха;\n",
        "- temperatureMaxTime – время, когда была зафиксирована максимальная температура воздуха;\n",
        "- windBearing – направление ветра (по азимуту);\n",
        "- icon – стандартизованное словесное описание погодных условий;\n",
        "- dewPoint – точка росы;\n",
        "- temperatureMinTime – время, когда была зафиксирована минимальная температура воздуха;\n",
        "- cloudCover – облачность;\n",
        "- windSpeed – скорость ветра;\n",
        "- pressure – атмосферное давление;\n",
        "- apparentTemperatureMinTime – время, когда была зафиксирована минимальная температура комфорта;\n",
        "- apparentTemperatureHigh – дневная температура комфорта;\n",
        "- precipType – тип осадков;\n",
        "- visibility – видимость (в милях);\n",
        "- humidity – относительная влажность;\n",
        "- apparentTemperatureHighTime – время, когда была зафиксирована дневная температура комфорта;\n",
        "- apparentTemperatureLow – ночная температура комфорта;\n",
        "- apparentTemperatureMax – максимальная температура комфорта;\n",
        "- uvIndex – UV-индекс;\n",
        "- time – время начала сбора данных;\n",
        "- sunsetTime – время заката;\n",
        "- temperatureLow – минимальная ночная температура;\n",
        "- temperatureMin – минимальная температура за сутки;\n",
        "- temperatureHigh – максимальная дневная температура;\n",
        "- sunriseTime – время восхода;\n",
        "- temperatureHighTime – время, когда была зафиксирована максимальная дневная температура;\n",
        "- uvIndexTime – время, когда был зафиксирован максимальный UV-индекс;\n",
        "- summary – словесное описание погоды в течение дня (не рекомендуется использовать для автоматизированного анализа!);\n",
        "- temperatureLowTime – время, когда была зафиксирована минимальная ночная температура;\n",
        "- apparentTemperatureMin – минимальная температура комфорта;\n",
        "- apparentTemperatureMaxTime – время, когда была зафиксирована максимальная температура комфорта за сутки;\n",
        "- apparentTemperatureLowTime – время, когда была зафиксирована минимальная ночная температура комфорта; \n",
        "- moonPhase – фаза луны.\n",
        "\n",
        "**weather_hourly_darksky.csv**\n",
        "\n",
        "Почасовые сведения о погоде. Столбцы датафрейма:\n",
        "- visibility – видимость в милях;\n",
        "- windBearing – направление ветра (по азимуту);\n",
        "- temperature – температура воздуха;\n",
        "- time – время записи показателей;\n",
        "- dewPoint – точка росы;\n",
        "- pressure – атмосферное давление;\n",
        "- apparentTemperature – температура комфорта;\n",
        "- windSpeed – скорость ветра;\n",
        "- precipType – тип осадков;\n",
        "- icon – стандартизованное словесное описание погодных условий;\n",
        "- humidity – относительная влажность;\n",
        "- summary – нестандартизованное словесное описание погодных условий."
      ]
    },
    {
      "cell_type": "markdown",
      "metadata": {
        "id": "C5tT8Cc48MRp",
        "colab_type": "text"
      },
      "source": [
        "### Загрузка сводных данных"
      ]
    },
    {
      "cell_type": "code",
      "metadata": {
        "id": "MWyIz2vR_IAE",
        "colab_type": "code",
        "colab": {}
      },
      "source": [
        "informations_households = pd.read_csv(\n",
        "    file_prefix / 'informations_households.csv',\n",
        "    )\n",
        "daily_dataset = pd.read_csv(\n",
        "    file_prefix / 'daily_dataset' / 'daily_dataset.csv.zip',\n",
        "    parse_dates=['day'],\n",
        "    infer_datetime_format=True,\n",
        "    na_values='Null',\n",
        "    dtype={'energy_median': np.double,\n",
        "           'energy_mean': np.double,\n",
        "           'energy_max': np.double,\n",
        "           'energy_count': np.int8,\n",
        "           'energy_std': np.double,\n",
        "           'energy_sum': np.double,\n",
        "           'energy_min': np.double\n",
        "           }\n",
        "    )\n",
        "acorn_details = pd.read_csv(\n",
        "    file_prefix / 'acorn_details.csv',\n",
        "    encoding='cp1251'\n",
        "    )\n",
        "weather_daily_darksky = pd.read_csv(\n",
        "    file_prefix / 'weather_daily_darksky.csv',\n",
        "    parse_dates=['temperatureMaxTime',\n",
        "                 'temperatureMinTime',\n",
        "                 'apparentTemperatureMinTime',\n",
        "                 'apparentTemperatureHighTime',\n",
        "                 'time', # <- purified date of this row\n",
        "                 'sunsetTime',\n",
        "                 'sunriseTime',\n",
        "                 'uvIndexTime',\n",
        "                 'temperatureHighTime',\n",
        "                 'temperatureLowTime',\n",
        "                 'apparentTemperatureMaxTime',\n",
        "                 'apparentTemperatureLowTime']\n",
        "    )\n",
        "weather_hourly_darksky = pd.read_csv(\n",
        "    file_prefix / 'weather_hourly_darksky.csv',\n",
        "    parse_dates=['time'] # <- purified date and time of this row\n",
        "    )\n",
        "uk_holidays = pd.read_csv(\n",
        "    file_prefix /'uk_bank_holidays.csv',\n",
        "    parse_dates=['Bank holidays']\n",
        "    )"
      ],
      "execution_count": 0,
      "outputs": []
    },
    {
      "cell_type": "markdown",
      "metadata": {
        "id": "8LkiYMBGCfDw",
        "colab_type": "text"
      },
      "source": [
        "### группы по ACORN среди потребителей в датасете"
      ]
    },
    {
      "cell_type": "code",
      "metadata": {
        "id": "9YLOab2ICgNt",
        "colab_type": "code",
        "outputId": "07af9444-e746-4abe-a8ea-522bd6c734f6",
        "colab": {
          "base_uri": "https://localhost:8080/",
          "height": 415
        }
      },
      "source": [
        "# группы потребителей по ACORN\n",
        "\n",
        "display(informations_households['Acorn_grouped'].unique())\n",
        "# Присутствует 'ACORN-U(nclassified)' который не принадлежит ни одной ACORN-метрике,\n",
        "# возможно, нам придётся его дропать при обработке по группам ACORN\n",
        "# Также присутствует 'ACORN-' - скорее всего, битые данные, надо их отбросить\n",
        "# Affluent - обеспеченный класс \n",
        "# Comfortable - средний класс\n",
        "# Adversity - низший класс\n",
        "display(informations_households.groupby(['Acorn', 'Acorn_grouped'])['file'].count())\n",
        "display(informations_households = informations_households[informations_households['Acorn'] != 'ACORN-'])"
      ],
      "execution_count": 0,
      "outputs": [
        {
          "output_type": "display_data",
          "data": {
            "text/plain": [
              "array(['ACORN-', 'Affluent', 'Comfortable', 'Adversity', 'ACORN-U'],\n",
              "      dtype=object)"
            ]
          },
          "metadata": {
            "tags": []
          }
        },
        {
          "output_type": "display_data",
          "data": {
            "text/plain": [
              "Acorn    Acorn_grouped\n",
              "ACORN-   ACORN-              2\n",
              "ACORN-A  Affluent          157\n",
              "ACORN-B  Affluent           25\n",
              "ACORN-C  Affluent          151\n",
              "ACORN-D  Affluent          292\n",
              "ACORN-E  Affluent         1567\n",
              "ACORN-F  Comfortable       684\n",
              "ACORN-G  Comfortable       205\n",
              "ACORN-H  Comfortable       455\n",
              "ACORN-I  Comfortable        51\n",
              "ACORN-J  Comfortable       112\n",
              "ACORN-K  Adversity         165\n",
              "ACORN-L  Adversity         342\n",
              "ACORN-M  Adversity         113\n",
              "ACORN-N  Adversity         152\n",
              "ACORN-O  Adversity         103\n",
              "ACORN-P  Adversity         110\n",
              "ACORN-Q  Adversity         831\n",
              "ACORN-U  ACORN-U            49\n",
              "Name: file, dtype: int64"
            ]
          },
          "metadata": {
            "tags": []
          }
        }
      ]
    },
    {
      "cell_type": "markdown",
      "metadata": {
        "id": "19niET9_m95M",
        "colab_type": "text"
      },
      "source": [
        "## Общие функции работы с данными"
      ]
    },
    {
      "cell_type": "markdown",
      "metadata": {
        "id": "44ijZ9PHWW1Y",
        "colab_type": "text"
      },
      "source": [
        "### Функция для получения данных по ACORN"
      ]
    },
    {
      "cell_type": "code",
      "metadata": {
        "id": "c8i2TfJxWVC0",
        "colab_type": "code",
        "colab": {
          "base_uri": "https://localhost:8080/",
          "height": 34
        },
        "outputId": "e2cf33e0-8ecf-460e-f99b-190cc58847b0"
      },
      "source": [
        "# странная функция\n",
        "def get_acorn_info(acorn_group, ref):\n",
        "    return acorn_details[acorn_details['CATEGORIES'] == ref]\\\n",
        "    .sort_values(by=acorn_group, ascending=False)\\\n",
        "    .head(1)['REFERENCE']\\\n",
        "    .iloc[0]\n",
        "\n",
        "get_acorn_info('ACORN-A', 'Age')"
      ],
      "execution_count": 3,
      "outputs": [
        {
          "output_type": "execute_result",
          "data": {
            "text/plain": [
              "'Aged 65-74'"
            ]
          },
          "metadata": {
            "tags": []
          },
          "execution_count": 3
        }
      ]
    },
    {
      "cell_type": "markdown",
      "metadata": {
        "id": "X7heEh-q-LQ_",
        "colab_type": "text"
      },
      "source": [
        "### Запрос почасовой информации в зависимости от списка LCLids"
      ]
    },
    {
      "cell_type": "markdown",
      "metadata": {
        "id": "jF-LKuk5-aHc",
        "colab_type": "text"
      },
      "source": [
        "Мы можем формировать список LCLids на основе каких-то отборочных условий (тип тарификации, группа ACORN), отдавать его в функцию и принимать почасовое потребление этой конкретной группы потребителей."
      ]
    },
    {
      "cell_type": "markdown",
      "metadata": {
        "id": "qmi1mfWe_SEQ",
        "colab_type": "text"
      },
      "source": [
        "```\n",
        "retrieve_LCLids_hourly_consumption(LCLids)\n",
        "\n",
        "Параметр LCLids:\n",
        "перечислимый тип, состоящий из LCLid, предложенных к отбору\n",
        "\n",
        "Возвращаемый результат:\n",
        "DataFrame с колонками tstp (градация - час) и energy (кВт\\*ч/ч\\*ч)\n",
        "\n",
        "Использует в работе:\n",
        "hourly_dataset/block_xxx.csv.zip\n",
        "```\n",
        "\n"
      ]
    },
    {
      "cell_type": "code",
      "metadata": {
        "id": "9HlMbKIS-XxN",
        "colab_type": "code",
        "colab": {}
      },
      "source": [
        "def retrieve_LCLids_hourly_consumption(LCLids):\n",
        "    # transform any type to list\n",
        "    try:\n",
        "        LCLids = list(LCLids)\n",
        "    except TypeError:\n",
        "        print(f'LCLids has incompatible type: {type(LCList)}')\n",
        "    \n",
        "    # forming block file names to work upon\n",
        "    files_to_proceed = set(informations_households.loc[LCLids]['file'])\n",
        "    \n",
        "    result_df = pd.DataFrame(columns=['tstp', 'energy'])\n",
        "    # simple progress bar\n",
        "    bar = progressbar.ProgressBar(\n",
        "        prefix='retrieve_LCLids_hourly_consumption, files: ')\n",
        "\n",
        "    for file in bar(files_to_proceed):\n",
        "        z = pd.read_csv(\n",
        "            file_prefix / 'hourly_dataset' / f'{file}.csv.zip',\n",
        "            parse_dates=['tstp'],\n",
        "            infer_datetime_format=True,\n",
        "            na_values='Null',\n",
        "            dtype={'energy': np.double}\n",
        "        )\n",
        "        # filter out only LCLids that we are needed\n",
        "        z = z[z['LCLid'].isin(LCLids)]\n",
        "        # grouping, summing and regrouping back one level,\n",
        "        # dropping LCLid column.\n",
        "        # grouping only by timestamp, cause we are aware\n",
        "        # about common info only, but not specific LCLid\n",
        "        z = z \\\n",
        "        .groupby(by=['tstp'])\\\n",
        "        .agg(np.sum)\\\n",
        "        .reset_index(['tstp'])\n",
        "        result_df = pd.concat([result_df, z], copy=False)\n",
        "    return result_df\n",
        "\n",
        "# Examples:\n",
        "#\n",
        "# retrieve ACORN-U hourly consumption:\n",
        "#\n",
        "# retrieve_LCLids_hourly_consumption(\n",
        "#     informations_households[informations_households['Acorn']\n",
        "#                             == 'ACORN-U']['LCLid'])\n",
        "#\n",
        "# retrieve specific user consumption:\n",
        "#\n",
        "# retrieve_LCLids_hourly_consumption(['MAC000002'])"
      ],
      "execution_count": 0,
      "outputs": []
    },
    {
      "cell_type": "markdown",
      "metadata": {
        "id": "WU6CsiAcRNZB",
        "colab_type": "text"
      },
      "source": [
        "### Усреднённые почасовые значения в течение всего периода наблюдений"
      ]
    },
    {
      "cell_type": "markdown",
      "metadata": {
        "id": "-jGaVtn5RcTk",
        "colab_type": "text"
      },
      "source": [
        "Необходимо сгруппировать полученный датафрейм ['tstp', 'energy'] по часам наблюдения, и вывести итоговый датафрейм, в котором 24 строки.\n",
        "\n",
        "Используется только для анализа по времени суток, для анализа по дням месяца/года надо будет использовать daily_dataset"
      ]
    },
    {
      "cell_type": "markdown",
      "metadata": {
        "id": "lM-Z6rg0Rzdw",
        "colab_type": "text"
      },
      "source": [
        "\n",
        "\n",
        "```\n",
        "flatten_to_hours(consumption)\n",
        "\n",
        "Параметр consumption:\n",
        "датафрейм с колонками tstp и energy\n",
        "\n",
        "Возвращаемый результат:\n",
        "датафрейм с 24 строками, hour - час наблюдения, energy - среднее потребление за этот час в течение всего периода наблюдений\n",
        "```\n",
        "\n"
      ]
    },
    {
      "cell_type": "code",
      "metadata": {
        "id": "J2tip1i6Ra8d",
        "colab_type": "code",
        "colab": {}
      },
      "source": [
        "def flatten_to_hours(consumption):\n",
        "    # proper format and not empty\n",
        "    assert list(consumption.columns) == ['tstp', 'energy']\n",
        "    assert not consumption.empty \n",
        "    consumption['hour'] = consumption['tstp'].apply(lambda x: x.hour)\n",
        "    consumption.drop(columns=['tstp'], inplace=True)\n",
        "    consumption = consumption\\\n",
        "        .groupby(by=['hour']).agg(['mean']).reset_index(['hour'])\n",
        "    # here are some f*cking magic with column names\n",
        "    # coz aggregation return multiindex instead of regular index\n",
        "    consumption.columns = ['hour', 'energy']\n",
        "    return consumption\n",
        "\n",
        "# Examples:\n",
        "#\n",
        "# retrieve ACORN-U mean hour consumption:\n",
        "# z = flatten_to_hours(\n",
        "#     retrieve_LCLids_hourly_consumption(\n",
        "#      informations_households[informations_households['Acorn']\n",
        "#                              == 'ACORN-Q']['LCLid'])\n",
        "# )\n",
        "#\n",
        "# retrieve specific user mean hour consumption:\n",
        "# z = flatten_to_hours(retrieve_LCLids_hourly_consumption(['MAC000002']))"
      ],
      "execution_count": 0,
      "outputs": []
    },
    {
      "cell_type": "markdown",
      "metadata": {
        "id": "KYSObuluq-eO",
        "colab_type": "text"
      },
      "source": [
        "### Усреднённые посуточные значения в течение всего периода наблюдений"
      ]
    },
    {
      "cell_type": "markdown",
      "metadata": {
        "id": "uad0UPAhrreT",
        "colab_type": "text"
      },
      "source": [
        "То же самое, что и выше, только смотрим распределение по дням.\n",
        "Практическая ценность этих данных сомнительна, делается только ради практики"
      ]
    },
    {
      "cell_type": "markdown",
      "metadata": {
        "id": "3-2lj2ovrJ4K",
        "colab_type": "text"
      },
      "source": [
        "```\n",
        "flatten_to_days(consumption)\n",
        "\n",
        "Параметр consumption:\n",
        "датафрейм с колонками day и <неважно>\n",
        "\n",
        "Возвращаемый результат:\n",
        "датафрейм с 30/31 строками, day - день наблюдения, energy - среднее потребление за этот час в течение всего периода наблюдений\n",
        "\n",
        "Использует в работе:\n",
        "daily_dataset/daily_dataset.csv.zip\n",
        "```\n"
      ]
    },
    {
      "cell_type": "code",
      "metadata": {
        "id": "7tH2-I0vrMT5",
        "colab_type": "code",
        "outputId": "d2bece30-7438-45e8-fc6c-24c63eca1f3f",
        "colab": {
          "base_uri": "https://localhost:8080/",
          "height": 296
        }
      },
      "source": [
        "def flatten_to_days(consumption):\n",
        "    # proper format and not empty\n",
        "    assert list(consumption.columns)[0] == 'day'\n",
        "    assert not consumption.empty \n",
        "    consumption['day'] = consumption['day'].apply(lambda x: x.day)\n",
        "    consumption = consumption\\\n",
        "        .groupby(by=['day']).agg(['mean']).reset_index(['day'])\n",
        "    # here are some f*cking magic with column names\n",
        "    # coz aggregation return multiindex instead of regular index\n",
        "    consumption.columns = ['day', 'energy']\n",
        "    return consumption\n",
        "\n",
        "# Examples:\n",
        "#\n",
        "# retrieve ACORN-F mean day consumption:\n",
        "# y = flatten_to_days(\n",
        "#     daily_dataset[daily_dataset['LCLid'].isin(\n",
        "#         informations_households[informations_households['Acorn']\n",
        "#                              == 'ACORN-F']['LCLid'])][['day', 'energy_mean']]\n",
        "#     )\n",
        "# y.plot(x='day')"
      ],
      "execution_count": 0,
      "outputs": [
        {
          "output_type": "execute_result",
          "data": {
            "text/plain": [
              "<matplotlib.axes._subplots.AxesSubplot at 0x7f3164179048>"
            ]
          },
          "metadata": {
            "tags": []
          },
          "execution_count": 11
        },
        {
          "output_type": "display_data",
          "data": {
            "image/png": "[encoded data removed]",
            "text/plain": [
              "<Figure size 432x288 with 1 Axes>"
            ]
          },
          "metadata": {
            "tags": []
          }
        }
      ]
    },
    {
      "cell_type": "markdown",
      "metadata": {
        "id": "VC7x_l1SwxBV",
        "colab_type": "text"
      },
      "source": [
        "## Предварительная обработка данных"
      ]
    },
    {
      "cell_type": "markdown",
      "metadata": {
        "id": "JG0AmoldLr-H",
        "colab_type": "text"
      },
      "source": [
        "### ✔ Добавление рабочих и выходных дней в список праздничных дней"
      ]
    },
    {
      "cell_type": "code",
      "metadata": {
        "colab_type": "code",
        "id": "uyc8rMFWMKva",
        "colab": {}
      },
      "source": [
        "uk_holidays.rename(\n",
        "    columns={'Bank holidays': 'day'},\n",
        "    inplace=True\n",
        "    )\n",
        "# adding work days and weekdays to uk_holidays\n",
        "for current_date in pd.date_range(\n",
        "    daily_dataset.day.min(),\n",
        "    daily_dataset.day.max(),\n",
        "    freq='D'):\n",
        "\n",
        "    uk_holidays = uk_holidays.append(\n",
        "        {'day': current_date,\n",
        "         'Type': 'Weekend' if current_date.day in (5, 6) else 'Work Day'\n",
        "        }, ignore_index=True)\n",
        "\n",
        "# uk_holidays.to_csv(file_prefix / 'uk_holidays.csv', index=False)"
      ],
      "execution_count": 0,
      "outputs": []
    },
    {
      "cell_type": "markdown",
      "metadata": {
        "id": "yIV-WhghYExw",
        "colab_type": "text"
      },
      "source": [
        "### ✔ Предварительная обработка получасовых значений и сведение их к часовым"
      ]
    },
    {
      "cell_type": "markdown",
      "metadata": {
        "id": "B9HB75VkYNA9",
        "colab_type": "text"
      },
      "source": [
        "Вопрос: стоит ли?\n",
        "\n",
        "Сильно уменьшится сложность обработки при изъятии данных по LCLid.\n",
        "Можно будет при загрузке сразу определять тип данных у даты и у показаний счётчика, не будет пустых зачений - то есть предварительно проводится очистка и обработка данных, остаётся только загрузка через read_csv и работа с ними без промежуточных этапов.\n",
        "\n",
        "\n",
        "\n",
        "```\n",
        "Результат:\n",
        "файлы hourly_dataset/block_xxx.csv.zip\n",
        "формат файла аналогичен halfhourly_dataset/block_xxx.csv.zip, только отсчёты один раз в час\n",
        "\n",
        "Использует в работе:\n",
        "halfhourly_dataset/block_xxx.csv.zip\n",
        "```\n",
        "\n"
      ]
    },
    {
      "cell_type": "code",
      "metadata": {
        "id": "88fmG9mxcvme",
        "colab_type": "code",
        "outputId": "20376c33-622c-4730-c0af-6829ca2cc479",
        "colab": {
          "base_uri": "https://localhost:8080/",
          "height": 34
        }
      },
      "source": [
        "# creating progressbar, coz there is much to work\n",
        "bar = progressbar.ProgressBar(prefix='Processing files: ')\n",
        "for file in bar(\n",
        "    os.listdir(file_prefix / 'halfhourly_dataset')\n",
        "    ):\n",
        "    # !ls 'drive/My Drive/Colab Notebooks/Skillfactory_game_data'\n",
        "    # define new file name\n",
        "    filename = file_prefix / 'hourly_dataset' / file.split('/')[-1]\n",
        "    z = pd.read_csv(\n",
        "        file,\n",
        "        parse_dates=['tstp'],\n",
        "        infer_datetime_format=True,\n",
        "        na_values='Null',\n",
        "        keep_default_na=True,\n",
        "    )\n",
        "    z.columns = ['LCLid', 'tstp', 'energy']\n",
        "    z.fillna(0, inplace=True)\n",
        "    # np.float16 is too rough even for thousandths\n",
        "    z['energy'] = z['energy'].astype(np.double, copy=False)\n",
        "    # now we need to concatenate two halves of an hour\n",
        "    # roughing them to hours.\n",
        "    # this place is extremely slow,\n",
        "    # we need to get rid of this conversion\n",
        "    z['tstp'] = z['tstp'].apply(\n",
        "        lambda x: pd.Timestamp(x)\\\n",
        "        .replace(minute=0, second=0)\\\n",
        "        .to_datetime64())\n",
        "    # grouping, summing and regrouping back one level,\n",
        "    # converting LCLid column to index.\n",
        "    z = z \\\n",
        "    .groupby(by=['LCLid', 'tstp'])\\\n",
        "    .agg(np.sum)\\\n",
        "    .reset_index(['tstp'])\n",
        "    # round energy consumption value to 3 digits, that should be enough\n",
        "    z.to_csv(filename, float_format='%.3f')\n"
      ],
      "execution_count": 0,
      "outputs": [
        {
          "output_type": "stream",
          "text": [
            "Processing files: 100% (112 of 112) |####| Elapsed Time: 0:33:20 Time:  0:33:20\n"
          ],
          "name": "stderr"
        }
      ]
    },
    {
      "cell_type": "markdown",
      "metadata": {
        "id": "7yAMdq0KPIQP",
        "colab_type": "text"
      },
      "source": [
        "### ✔ Сведение получасовых данных к часовым, сохранение их в один файл. Без LCLids"
      ]
    },
    {
      "cell_type": "markdown",
      "metadata": {
        "id": "hdjQGRmwZSCv",
        "colab_type": "text"
      },
      "source": [
        "Данные сведены из разных файлов в hourly_energy_use.csv"
      ]
    },
    {
      "cell_type": "code",
      "metadata": {
        "id": "DYq-uRetPSJZ",
        "colab_type": "code",
        "colab": {}
      },
      "source": [
        "# hourly_energy_use = pd.DataFrame(columns=['tstp', 'energy'])\n",
        "# files = os.listdir(file_prefix / 'halfhourly_dataset')\n",
        "# bar = progressbar.ProgressBar(\n",
        "#     prefix='retrieving files: ')\n",
        "\n",
        "# for file_name in bar(files):\n",
        "#     temp = pd.read_csv(\n",
        "#         file_prefix / 'hourly_dataset' / file_name,\n",
        "#         parse_dates=['tstp'],\n",
        "#         na_values='Null')\n",
        "    \n",
        "#     temp['energy'] = temp['energy'].fillna('0').astype(np.double)\n",
        "#     # now we need to concatenate two halves of an hour\n",
        "#     # roughing them to hours.\n",
        "#     temp['tstp'] = pd.to_datetime(\n",
        "#         temp['tstp'].dt.strftime('%Y-%m-%d %H'))\n",
        "#     # grouping, summing, ungrouping, appending\n",
        "#     hourly_energy_use = hourly_energy_use.append(\n",
        "#         temp.groupby(['tstp'])['energy'].sum().reset_index(),\n",
        "#         ignore_index=False\n",
        "#     )\n",
        "\n",
        "# hourly_energy_use = hourly_energy_use\\\n",
        "#     .groupby(['tstp'])['energy']\\\n",
        "#     .sum()\\\n",
        "#     .reset_index()\n",
        "\n",
        "# hourly_energy_use.to_csv(\n",
        "#     file_prefix / 'hourly_energy_use.csv',\n",
        "#     index=False)\n",
        "\n",
        "hourly_energy_use = pd.read_csv(\n",
        "    file_prefix / 'hourly_energy_use.csv',\n",
        "    parse_dates=['tstp'])\n"
      ],
      "execution_count": 0,
      "outputs": []
    },
    {
      "cell_type": "markdown",
      "metadata": {
        "id": "rWEtaOWBGHv4",
        "colab_type": "text"
      },
      "source": [
        "### ✔ Сводная таблица часовых потреблений электроэнергии по группам ACORN-x"
      ]
    },
    {
      "cell_type": "markdown",
      "metadata": {
        "id": "dtl_yXoOGV_m",
        "colab_type": "text"
      },
      "source": [
        "Необходимо для каждой ACORN-x сделать часовую сводку средней потреблённой электроэнергии и свести в таблицу hour - ACORN-A - ACORN-B - ...\n",
        "\n",
        "Выполняется один раз. Используются общие функции retrieve_LCLids_hourly_consumption и flatten_to_hours.\n",
        "\n",
        "Полученный датафрейм сохранён для референса на него в последующих изысканиях как\n",
        "acorn_hourly_dataset.csv"
      ]
    },
    {
      "cell_type": "code",
      "metadata": {
        "id": "JrCYiAs3IZkn",
        "colab_type": "code",
        "colab": {}
      },
      "source": [
        "acorn_groups = list(informations_households['Acorn'].unique())\n",
        "acorn_hourly_dataset = pd.DataFrame(columns=['hour'])\n",
        "for acorn in acorn_groups:\n",
        "    display(f'Retrieving ACORN group: {acorn}...')\n",
        "    # retrieve list of LCLid for each ACORN-x\n",
        "    # get dataframe of their hour consumption\n",
        "    # and calculate mean of it over hours \n",
        "    z = flatten_to_hours(\n",
        "        retrieve_LCLids_hourly_consumption(\n",
        "            informations_households[informations_households['Acorn']\n",
        "                             == acorn].index)\n",
        "    )\n",
        "    z.columns = ['hour', acorn]\n",
        "    acorn_hourly_dataset = acorn_hourly_dataset.merge(\n",
        "        z, on=['hour'], how='outer', copy=False)\n",
        "\n",
        "acorn_hourly_dataset.to_csv(\n",
        "    file_prefix / 'acorn_hourly_dataset.csv'\n",
        ")"
      ],
      "execution_count": 0,
      "outputs": []
    },
    {
      "cell_type": "code",
      "metadata": {
        "id": "Je3tbPeVK4Q2",
        "colab_type": "code",
        "outputId": "0d2ad156-e7d2-40b8-a9a0-7e506e6b724e",
        "colab": {
          "base_uri": "https://localhost:8080/",
          "height": 372
        }
      },
      "source": [
        "acorn_hourly_dataset.plot.area(x='hour')"
      ],
      "execution_count": 0,
      "outputs": [
        {
          "output_type": "execute_result",
          "data": {
            "text/plain": [
              "<matplotlib.axes._subplots.AxesSubplot at 0x7fe8a48d14e0>"
            ]
          },
          "metadata": {
            "tags": []
          },
          "execution_count": 24
        },
        {
          "output_type": "display_data",
          "data": {
            "image/png": "[encoded data removed]",
            "text/plain": [
              "<Figure size 432x288 with 1 Axes>"
            ]
          },
          "metadata": {
            "tags": []
          }
        }
      ]
    },
    {
      "cell_type": "markdown",
      "metadata": {
        "id": "6ZTbkyFTC5FJ",
        "colab_type": "text"
      },
      "source": [
        "## Работа с данными\n"
      ]
    },
    {
      "cell_type": "markdown",
      "metadata": {
        "id": "DdIWkmWV-j6K",
        "colab_type": "text"
      },
      "source": [
        "### запрос всех данных потребителя по его LCLid"
      ]
    },
    {
      "cell_type": "markdown",
      "metadata": {
        "id": "dcaaKh253i7y",
        "colab_type": "text"
      },
      "source": [
        "Функция пока не используется"
      ]
    },
    {
      "cell_type": "code",
      "metadata": {
        "id": "AlA5y7fjC5v-",
        "colab_type": "code",
        "outputId": "60ebfadb-c1da-4cd2-a08e-86d21d96ba1a",
        "colab": {
          "base_uri": "https://localhost:8080/",
          "height": 138
        }
      },
      "source": [
        "LCLid_full_data = namedtuple(\n",
        "    'LCLid_full_data',\n",
        "    ['LCLid',\n",
        "    'Acorn',  # Acorn category group\n",
        "    'Acorn_grouped',  # common subdivision over Acorn groups\n",
        "    'stdorToU',  # Standart or TimeOfUse\n",
        "    'consumption']  # returns DataFrame\n",
        ")\n",
        "\n",
        "def retrieve_LCLid_full_data(LCLid):\n",
        "# запрос всех данных потребителя по его LCLid\n",
        "    LCLid_series = informations_households.loc[LCLid]\n",
        "    file = LCLid_series['file']\n",
        "    hh_ds_block = pd.read_csv(\n",
        "        file_prefix / 'halfhourly_dataset' / f'{file}.csv.zip',\n",
        "        parse_dates=['tstp'],\n",
        "        infer_datetime_format=True,\n",
        "        na_values='Null',\n",
        "        keep_default_na=True,\n",
        "        index_col='LCLid')\n",
        "    hh_ds_block = hh_ds_block.loc[LCLid]\n",
        "    hh_ds_block.fillna(0, inplace=True)\n",
        "    hh_ds_block.columns = ['tstp', 'energy']\n",
        "    # np.float16 is too rough even for thousandths\n",
        "    hh_ds_block['energy'] = hh_ds_block['energy'].astype(np.float32, copy=False)\n",
        "\n",
        "    return LCLid_full_data(\n",
        "        LCLid=LCLid,\n",
        "        Acorn=LCLid_series['Acorn'],\n",
        "        Acorn_grouped=LCLid_series['Acorn_grouped'],\n",
        "        stdorToU=LCLid_series['stdorToU'],\n",
        "        consumption=hh_ds_block\n",
        "    )\n",
        "\n",
        "z = retrieve_LCLid_full_data('MAC003597')\n",
        "# z.Acorn\n",
        "# z.consumption.sample(5)\n",
        "z.consumption.info()"
      ],
      "execution_count": 0,
      "outputs": [
        {
          "output_type": "stream",
          "text": [
            "<class 'pandas.core.frame.DataFrame'>\n",
            "Index: 24215 entries, MAC003597 to MAC003597\n",
            "Data columns (total 2 columns):\n",
            "tstp      24215 non-null datetime64[ns]\n",
            "energy    24215 non-null float32\n",
            "dtypes: datetime64[ns](1), float32(1)\n",
            "memory usage: 472.9+ KB\n"
          ],
          "name": "stdout"
        }
      ]
    },
    {
      "cell_type": "markdown",
      "metadata": {
        "id": "YntfrPlvWDkO",
        "colab_type": "text"
      },
      "source": [
        "# Задачи на аналитику"
      ]
    },
    {
      "cell_type": "markdown",
      "metadata": {
        "colab_type": "text",
        "id": "BDBO2EKYb9QX"
      },
      "source": [
        "## Очистка данных"
      ]
    },
    {
      "cell_type": "markdown",
      "metadata": {
        "colab_type": "text",
        "id": "RdGHxOtBb9QU"
      },
      "source": [
        "Проверка имеющихся групп Acorn"
      ]
    },
    {
      "cell_type": "code",
      "metadata": {
        "colab_type": "code",
        "outputId": "ccea9d18-195d-4c94-f4e4-843ba819de85",
        "id": "fXCBYQTTb9QL",
        "colab": {
          "base_uri": "https://localhost:8080/",
          "height": 86
        }
      },
      "source": [
        "display(informations_households['Acorn'].unique())"
      ],
      "execution_count": 0,
      "outputs": [
        {
          "output_type": "display_data",
          "data": {
            "text/plain": [
              "array(['ACORN-', 'ACORN-A', 'ACORN-B', 'ACORN-C', 'ACORN-D', 'ACORN-E',\n",
              "       'ACORN-F', 'ACORN-G', 'ACORN-H', 'ACORN-I', 'ACORN-J', 'ACORN-K',\n",
              "       'ACORN-L', 'ACORN-M', 'ACORN-N', 'ACORN-O', 'ACORN-P', 'ACORN-Q',\n",
              "       'ACORN-U'], dtype=object)"
            ]
          },
          "metadata": {
            "tags": []
          }
        }
      ]
    },
    {
      "cell_type": "markdown",
      "metadata": {
        "colab_type": "text",
        "id": "KK5IVLb1b9QI"
      },
      "source": [
        "Присутствует 'ACORN-U(nclassified)' который не принадлежит ни одной ACORN-метрике, и 'ACORN-', который скорее всего неизвестный тип домохозяйства. В любом случае, их нет в acorn_details.csv, поэтому уберём подобные домохозяйства"
      ]
    },
    {
      "cell_type": "code",
      "metadata": {
        "colab_type": "code",
        "id": "neJleJ5Sb9QB",
        "colab": {}
      },
      "source": [
        "informations_households = informations_households[\n",
        "    ~informations_households['Acorn'].isin(['ACORN-U', 'ACORN-'])\n",
        "]"
      ],
      "execution_count": 0,
      "outputs": []
    },
    {
      "cell_type": "markdown",
      "metadata": {
        "colab_type": "text",
        "id": "TEnzVDUHb9P8"
      },
      "source": [
        "Рассмотрим данные потребления электроэнергии по дням:"
      ]
    },
    {
      "cell_type": "code",
      "metadata": {
        "colab_type": "code",
        "outputId": "f586e991-3bd7-4661-c947-ad0805f24abd",
        "id": "uB1_FhsBb9Pw",
        "colab": {
          "base_uri": "https://localhost:8080/",
          "height": 431
        }
      },
      "source": [
        "t1 = daily_dataset.groupby('day')['energy_sum'].sum().reset_index()\n",
        "plt.figure(figsize=(12, 6))\n",
        "sns.lineplot(x='day', y='energy_sum', data=t1)"
      ],
      "execution_count": 0,
      "outputs": [
        {
          "output_type": "execute_result",
          "data": {
            "text/plain": [
              "<matplotlib.axes._subplots.AxesSubplot at 0x7f84520184e0>"
            ]
          },
          "metadata": {
            "tags": []
          },
          "execution_count": 31
        },
        {
          "output_type": "display_data",
          "data": {
            "image/png": "[encoded data removed]",
            "text/plain": [
              "<Figure size 864x432 with 1 Axes>"
            ]
          },
          "metadata": {
            "tags": []
          }
        }
      ]
    },
    {
      "cell_type": "markdown",
      "metadata": {
        "colab_type": "text",
        "id": "-9o9FXHSb9Pq"
      },
      "source": [
        "Видно, что в самом начале сбора показаний данные о потреблении малы и впоследствии растут; эти малые показания будут давать погрешности в анализе, и по этой причине оставим только те значения, что имеют суммарное значение энергопотребления более 80% от средних показателей за весь период).\n",
        "Также уберём последний день сбора информации, он явно выделяется из общей группы"
      ]
    },
    {
      "cell_type": "code",
      "metadata": {
        "colab_type": "code",
        "outputId": "49f36764-a90d-4ec7-d1b5-20dddbf41187",
        "id": "A2tq9CJdb9PW",
        "colab": {
          "base_uri": "https://localhost:8080/",
          "height": 198
        }
      },
      "source": [
        "z = t1['energy_sum'].mean() * 0.8\n",
        "t1[t1['energy_sum'] >= z].sort_values(by='energy_sum').head()"
      ],
      "execution_count": 0,
      "outputs": [
        {
          "output_type": "execute_result",
          "data": {
            "text/html": [
              "<div>\n",
              "<style scoped>\n",
              "    .dataframe tbody tr th:only-of-type {\n",
              "        vertical-align: middle;\n",
              "    }\n",
              "\n",
              "    .dataframe tbody tr th {\n",
              "        vertical-align: top;\n",
              "    }\n",
              "\n",
              "    .dataframe thead th {\n",
              "        text-align: right;\n",
              "    }\n",
              "</style>\n",
              "<table border=\"1\" class=\"dataframe\">\n",
              "  <thead>\n",
              "    <tr style=\"text-align: right;\">\n",
              "      <th></th>\n",
              "      <th>day</th>\n",
              "      <th>energy_sum</th>\n",
              "    </tr>\n",
              "  </thead>\n",
              "  <tbody>\n",
              "    <tr>\n",
              "      <th>220</th>\n",
              "      <td>2012-06-30</td>\n",
              "      <td>34421.895002</td>\n",
              "    </tr>\n",
              "    <tr>\n",
              "      <th>216</th>\n",
              "      <td>2012-06-26</td>\n",
              "      <td>34439.920000</td>\n",
              "    </tr>\n",
              "    <tr>\n",
              "      <th>219</th>\n",
              "      <td>2012-06-29</td>\n",
              "      <td>34444.351998</td>\n",
              "    </tr>\n",
              "    <tr>\n",
              "      <th>195</th>\n",
              "      <td>2012-06-05</td>\n",
              "      <td>34515.655004</td>\n",
              "    </tr>\n",
              "    <tr>\n",
              "      <th>215</th>\n",
              "      <td>2012-06-25</td>\n",
              "      <td>34570.670002</td>\n",
              "    </tr>\n",
              "  </tbody>\n",
              "</table>\n",
              "</div>"
            ],
            "text/plain": [
              "           day    energy_sum\n",
              "220 2012-06-30  34421.895002\n",
              "216 2012-06-26  34439.920000\n",
              "219 2012-06-29  34444.351998\n",
              "195 2012-06-05  34515.655004\n",
              "215 2012-06-25  34570.670002"
            ]
          },
          "metadata": {
            "tags": []
          },
          "execution_count": 35
        }
      ]
    },
    {
      "cell_type": "code",
      "metadata": {
        "colab_type": "code",
        "id": "SPeVfvnJb9PK",
        "colab": {}
      },
      "source": [
        "start_period_rep = datetime.strptime('2012-07-01', '%Y-%m-%d')\n",
        "end_period_rep = daily_dataset['day'].max() - timedelta(days=1)\n",
        "daily_dataset = daily_dataset[\n",
        "    (daily_dataset['day'] >= start_period_rep) &\\\n",
        "    (daily_dataset['day'] <= end_period_rep)]"
      ],
      "execution_count": 0,
      "outputs": []
    },
    {
      "cell_type": "code",
      "metadata": {
        "colab_type": "code",
        "outputId": "81dfdd08-014a-4d5e-c547-7a56224e3350",
        "id": "9oRNfdCnb9Oy",
        "colab": {
          "base_uri": "https://localhost:8080/",
          "height": 411
        }
      },
      "source": [
        "t1 = daily_dataset.groupby('day')['energy_sum'].sum().reset_index()\n",
        "plt.figure(figsize=(12, 6))\n",
        "sns.lineplot(x='day', y='energy_sum', data=t1)"
      ],
      "execution_count": 0,
      "outputs": [
        {
          "output_type": "execute_result",
          "data": {
            "text/plain": [
              "<matplotlib.axes._subplots.AxesSubplot at 0x7f8451b7e128>"
            ]
          },
          "metadata": {
            "tags": []
          },
          "execution_count": 37
        },
        {
          "output_type": "display_data",
          "data": {
            "image/png": "[encoded data removed]",
            "text/plain": [
              "<Figure size 864x432 with 1 Axes>"
            ]
          },
          "metadata": {
            "tags": []
          }
        }
      ]
    },
    {
      "cell_type": "markdown",
      "metadata": {
        "id": "cAr2huGrXnpf",
        "colab_type": "text"
      },
      "source": [
        "## Подготовим дополнительные таблицы"
      ]
    },
    {
      "cell_type": "markdown",
      "metadata": {
        "id": "FS0S357RY2yN",
        "colab_type": "text"
      },
      "source": [
        "Соберем данные по суммарным потреблениям в домохозяйствах за весь период наблюдений"
      ]
    },
    {
      "cell_type": "code",
      "metadata": {
        "id": "V1XFpwyrXq6r",
        "colab_type": "code",
        "colab": {}
      },
      "source": [
        "energy_use_hh = informations_households.merge(\n",
        "    daily_dataset\\\n",
        "    .groupby(['LCLid'])['energy_sum']\\\n",
        "    .sum()\\\n",
        "    .sort_values(),\n",
        "     on='LCLid')"
      ],
      "execution_count": 0,
      "outputs": []
    },
    {
      "cell_type": "markdown",
      "metadata": {
        "id": "nxFjnNxOZaTI",
        "colab_type": "text"
      },
      "source": [
        "Соберем данные по суммарному потреблению за весь наблюдаемый период с периодом в день и с информацией о типе дня недели и погоде"
      ]
    },
    {
      "cell_type": "code",
      "metadata": {
        "id": "IZiUiVtvZZdX",
        "colab_type": "code",
        "colab": {}
      },
      "source": [
        "energy_use_d = daily_dataset\\\n",
        "    .groupby(['day'])['energy_sum']\\\n",
        "    .sum()\\\n",
        "    .to_frame()\\\n",
        "    .reset_index()\\\n",
        "    .merge(uk_holidays, \n",
        "            on='day',\n",
        "            how='left')\\\n",
        "    .merge(\n",
        "        weather_daily_darksky[[\n",
        "            'time',\n",
        "            'temperatureMax',\n",
        "            'temperatureMin',\n",
        "            'windBearing',\n",
        "            'windSpeed',\n",
        "            'icon',\n",
        "            'visibility']],\n",
        "           left_on='day',\n",
        "           right_on='time')\n",
        "# we don't need 'time' column anymore\n",
        "energy_use_d = energy_use_d.drop(columns='time')\n",
        "# add day of week column\n",
        "energy_use_d['dow'] = energy_use_d.apply(\n",
        "    lambda x: x['day'].weekday(), axis =  1)"
      ],
      "execution_count": 0,
      "outputs": []
    },
    {
      "cell_type": "markdown",
      "metadata": {
        "id": "Uurt0s4Ydi7i",
        "colab_type": "text"
      },
      "source": [
        "Соберем данные за весь наблюдаемый период с периодом в час с информацией о погоде"
      ]
    },
    {
      "cell_type": "code",
      "metadata": {
        "id": "aB0-wPfDdCjY",
        "colab_type": "code",
        "colab": {}
      },
      "source": [
        "energy_use_h = weather_hourly_darksky[[\n",
        "                            'time',\n",
        "                            'temperature',\n",
        "                            'windBearing',\n",
        "                            'windSpeed',\n",
        "                            'icon',\n",
        "                            'visibility']]\\\n",
        "                .merge(hourly_energy_use,\n",
        "                       left_on='time',\n",
        "                       right_on = 'tstp')\\\n",
        "                .sort_values(by='energy', \n",
        "                            ascending=False)\n",
        "energy_use_h['hour'] = energy_use_h.apply(\n",
        "    lambda x: x['time'].hour, axis=1)"
      ],
      "execution_count": 0,
      "outputs": []
    },
    {
      "cell_type": "markdown",
      "metadata": {
        "id": "ZwpIA_Itf3fK",
        "colab_type": "text"
      },
      "source": [
        "Соберем dataframe с описанием групп ACORN\n",
        "Не совсем понятно, что это такое в результате"
      ]
    },
    {
      "cell_type": "code",
      "metadata": {
        "id": "N9Y82pymf2DE",
        "colab_type": "code",
        "colab": {}
      },
      "source": [
        "acorn_df = acorn_details.columns[3:].to_frame(name='ACORN', index=False)\n",
        "acorn_categs = ['Age',\n",
        "                'Geography',\n",
        "                'House Type',\n",
        "                'House Size',\n",
        "                'House Value',\n",
        "                'Structure',\n",
        "                'Children in household',\n",
        "                'Household Size','Economic Activity',\n",
        "                'Social Grade',\n",
        "                'Occupation',\n",
        "                'Behaviours & Lifestyle',\n",
        "                'Financial Situation',\n",
        "                'Credit Cards',\n",
        "                'Interests & Hobbies',\n",
        "                'Holiday Destination/Type']\n",
        "for category in acorn_categs:\n",
        "    acorn_df[category] = acorn_df['ACORN'].apply(get_acorn_info, \n",
        "                                                 args=(category,))"
      ],
      "execution_count": 0,
      "outputs": []
    },
    {
      "cell_type": "markdown",
      "metadata": {
        "id": "n0fovdKMQwZF",
        "colab_type": "text"
      },
      "source": [
        "## Базовый анализ по домохозяйствам"
      ]
    },
    {
      "cell_type": "markdown",
      "metadata": {
        "id": "2iZvT85yZc7a",
        "colab_type": "text"
      },
      "source": [
        "### Информация о распределении потребления электроэнергии в зависимости от группы ACORN"
      ]
    },
    {
      "cell_type": "markdown",
      "metadata": {
        "id": "0DLaJZo7Q6S5",
        "colab_type": "text"
      },
      "source": [
        "Рассмотрим общее количество, суммарное потребление энергии и среднее значение потребления энергии домохозяйств в разбивке на группы ACORN, категории комфорта и категории учета электроэнергии"
      ]
    },
    {
      "cell_type": "code",
      "metadata": {
        "id": "GKMp8pmwQ02H",
        "colab_type": "code",
        "colab": {
          "base_uri": "https://localhost:8080/",
          "height": 736
        },
        "outputId": "d1a22d68-b3f6-496f-9184-65fe8b0501aa"
      },
      "source": [
        "t1 = energy_use_hh.groupby('Acorn')['energy_sum']\\\n",
        "                  .agg({'count_group': 'count',\n",
        "                        'sum_group': 'sum',\n",
        "                        'mean_group': 'mean'})\\\n",
        "                  .sort_values(by='mean_group', \n",
        "                               ascending=False)\\\n",
        "                  .head(10)\\\n",
        "                  .reset_index()\n",
        "fig, axes = plt.subplots(3, 1, figsize=(12, 12))\n",
        "axes[0].bar(x=t1['Acorn'], height=t1['count_group'])\n",
        "axes[0].set_title('Количество счётчиков по группам ACORN')\n",
        "axes[1].bar(x=t1['Acorn'], height=t1['sum_group'])\n",
        "axes[1].set_title('Суммарное потребление по группам ACORN')\n",
        "axes[2].bar(x=t1['Acorn'], height=t1['mean_group'])\n",
        "axes[2].set_title('Среднее потребление по группам ACORN')"
      ],
      "execution_count": 19,
      "outputs": [
        {
          "output_type": "execute_result",
          "data": {
            "text/plain": [
              "Text(0.5, 1.0, 'Среднее потребление по группам ACORN')"
            ]
          },
          "metadata": {
            "tags": []
          },
          "execution_count": 19
        },
        {
          "output_type": "display_data",
          "data": {
            "image/png": "[encoded data removed]",
            "text/plain": [
              "<Figure size 864x864 with 3 Axes>"
            ]
          },
          "metadata": {
            "tags": []
          }
        }
      ]
    },
    {
      "cell_type": "markdown",
      "metadata": {
        "id": "M2rqsKNtXERQ",
        "colab_type": "text"
      },
      "source": [
        "Выводы по графикам:\n",
        "\n",
        "* Поскольку количество домохозяйств, принадлежащих к группе ACORN-E максимальное, то и суммарное потребление по ним максимальное\n",
        "* Но среднее значение говорит нам, что домохозяйства группы ACORN-A потребляют больше электроэнергии\n",
        "\n",
        "Ниже есть описание различных параметров интересующих групп:"
      ]
    },
    {
      "cell_type": "code",
      "metadata": {
        "id": "1A-ecnw5Xc-L",
        "colab_type": "code",
        "colab": {
          "base_uri": "https://localhost:8080/",
          "height": 559
        },
        "outputId": "2c1fedd1-c559-4e83-eb80-aadffe1e7708"
      },
      "source": [
        "acorn_df[acorn_df['ACORN'].isin(['ACORN-A','ACORN-E'])].T"
      ],
      "execution_count": 41,
      "outputs": [
        {
          "output_type": "execute_result",
          "data": {
            "text/html": [
              "<div>\n",
              "<style scoped>\n",
              "    .dataframe tbody tr th:only-of-type {\n",
              "        vertical-align: middle;\n",
              "    }\n",
              "\n",
              "    .dataframe tbody tr th {\n",
              "        vertical-align: top;\n",
              "    }\n",
              "\n",
              "    .dataframe thead th {\n",
              "        text-align: right;\n",
              "    }\n",
              "</style>\n",
              "<table border=\"1\" class=\"dataframe\">\n",
              "  <thead>\n",
              "    <tr style=\"text-align: right;\">\n",
              "      <th></th>\n",
              "      <th>0</th>\n",
              "      <th>4</th>\n",
              "    </tr>\n",
              "  </thead>\n",
              "  <tbody>\n",
              "    <tr>\n",
              "      <th>ACORN</th>\n",
              "      <td>ACORN-A</td>\n",
              "      <td>ACORN-E</td>\n",
              "    </tr>\n",
              "    <tr>\n",
              "      <th>Age</th>\n",
              "      <td>Aged 65-74</td>\n",
              "      <td>Age 25-34</td>\n",
              "    </tr>\n",
              "    <tr>\n",
              "      <th>Geography</th>\n",
              "      <td>England</td>\n",
              "      <td>England</td>\n",
              "    </tr>\n",
              "    <tr>\n",
              "      <th>House Type</th>\n",
              "      <td>Detached house</td>\n",
              "      <td>Flat or maisonette</td>\n",
              "    </tr>\n",
              "    <tr>\n",
              "      <th>House Size</th>\n",
              "      <td>Number of Beds : 5 plus</td>\n",
              "      <td>Number of Beds : 1</td>\n",
              "    </tr>\n",
              "    <tr>\n",
              "      <th>House Value</th>\n",
              "      <td>House Value 1m+</td>\n",
              "      <td>House Value 500k-750k</td>\n",
              "    </tr>\n",
              "    <tr>\n",
              "      <th>Structure</th>\n",
              "      <td>Couple family with dependent children</td>\n",
              "      <td>All student households</td>\n",
              "    </tr>\n",
              "    <tr>\n",
              "      <th>Children in household</th>\n",
              "      <td>Children at home : 0</td>\n",
              "      <td>Children at home : 1</td>\n",
              "    </tr>\n",
              "    <tr>\n",
              "      <th>Household Size</th>\n",
              "      <td>Household size : 5+ persons</td>\n",
              "      <td>Household size : 3-4 persons</td>\n",
              "    </tr>\n",
              "    <tr>\n",
              "      <th>Economic Activity</th>\n",
              "      <td>Self-employed</td>\n",
              "      <td>Employee Full-Time</td>\n",
              "    </tr>\n",
              "    <tr>\n",
              "      <th>Social Grade</th>\n",
              "      <td>A</td>\n",
              "      <td>B</td>\n",
              "    </tr>\n",
              "    <tr>\n",
              "      <th>Occupation</th>\n",
              "      <td>Housewife</td>\n",
              "      <td>Professional</td>\n",
              "    </tr>\n",
              "    <tr>\n",
              "      <th>Behaviours &amp; Lifestyle</th>\n",
              "      <td>Takes regular exercise</td>\n",
              "      <td>I like to pursue a life of challenge, novelty ...</td>\n",
              "    </tr>\n",
              "    <tr>\n",
              "      <th>Financial Situation</th>\n",
              "      <td>Saving a lot</td>\n",
              "      <td>Saving a lot</td>\n",
              "    </tr>\n",
              "    <tr>\n",
              "      <th>Credit Cards</th>\n",
              "      <td>Spent Ј500+ in last month on a credit card</td>\n",
              "      <td>Spent Ј500+ in last month on a credit card</td>\n",
              "    </tr>\n",
              "    <tr>\n",
              "      <th>Interests &amp; Hobbies</th>\n",
              "      <td>Organic Foods</td>\n",
              "      <td>Cinema</td>\n",
              "    </tr>\n",
              "    <tr>\n",
              "      <th>Holiday Destination/Type</th>\n",
              "      <td>Australia / New Zealand</td>\n",
              "      <td>Asia</td>\n",
              "    </tr>\n",
              "  </tbody>\n",
              "</table>\n",
              "</div>"
            ],
            "text/plain": [
              "                                                                   0                                                  4\n",
              "ACORN                                                        ACORN-A                                            ACORN-E\n",
              "Age                                                       Aged 65-74                                          Age 25-34\n",
              "Geography                                                    England                                            England\n",
              "House Type                                            Detached house                                 Flat or maisonette\n",
              "House Size                                   Number of Beds : 5 plus                                 Number of Beds : 1\n",
              "House Value                                          House Value 1m+                              House Value 500k-750k\n",
              "Structure                      Couple family with dependent children                             All student households\n",
              "Children in household                           Children at home : 0                               Children at home : 1\n",
              "Household Size                           Household size : 5+ persons                       Household size : 3-4 persons\n",
              "Economic Activity                                      Self-employed                                 Employee Full-Time\n",
              "Social Grade                                                       A                                                  B\n",
              "Occupation                                                 Housewife                                       Professional\n",
              "Behaviours & Lifestyle                        Takes regular exercise  I like to pursue a life of challenge, novelty ...\n",
              "Financial Situation                                     Saving a lot                                       Saving a lot\n",
              "Credit Cards              Spent Ј500+ in last month on a credit card         Spent Ј500+ in last month on a credit card\n",
              "Interests & Hobbies                                    Organic Foods                                             Cinema\n",
              "Holiday Destination/Type                     Australia / New Zealand                                               Asia"
            ]
          },
          "metadata": {
            "tags": []
          },
          "execution_count": 41
        }
      ]
    },
    {
      "cell_type": "markdown",
      "metadata": {
        "id": "zsMD3bd4ZF7q",
        "colab_type": "text"
      },
      "source": [
        "Из описания групп становится понятно, что по среднему показателю потребления представитель такого домохозяства скорее всего уже пожилой человек 65+, имеющий большой, дорогой дом и живущий с детьми. В основном же представителями домохозяйств являются более молодые люди 25-34 лет, имеющие 1 ребенка."
      ]
    },
    {
      "cell_type": "markdown",
      "metadata": {
        "id": "rbF9Hxw5ZVVp",
        "colab_type": "text"
      },
      "source": [
        "### Информация о распределении потребления энергии в зависимости от типа установленного счетчика"
      ]
    },
    {
      "cell_type": "code",
      "metadata": {
        "id": "bTXrrriwZCdw",
        "colab_type": "code",
        "colab": {
          "base_uri": "https://localhost:8080/",
          "height": 916
        },
        "outputId": "dc0f78c4-cd3a-4220-a98d-873cbc4b6d73"
      },
      "source": [
        " t1 = energy_use_hh.groupby('stdorToU')['energy_sum']\\\n",
        "                  .agg({'count_group': 'count',\n",
        "                        'sum_group': 'sum',\n",
        "                        'mean_group': 'mean'})\\\n",
        "                  .sort_values(by='mean_group', \n",
        "                               ascending=False)\\\n",
        "                  .reset_index()\n",
        "fig, axes = plt.subplots(3, 1, figsize=(7, 15), sharex='col')\n",
        "axes[0].bar(x=['Стандартная', 'По учету времени'], height=t1['count_group'])\n",
        "axes[0].set_title('Количествово домохозяйств по категории учета')\n",
        "axes[0].set_ylabel('Количество домохозяйств')\n",
        "axes[0].set_xlabel('Категория учета')\n",
        "axes[1].bar(x=['Стандартная', 'По учету времени'], height=t1['sum_group'])\n",
        "axes[1].set_title('Сумарное потребление по категории учета')\n",
        "axes[1].set_xlabel('Категория учета')\n",
        "axes[1].set_ylabel('Суммарное потребление')\n",
        "axes[2].bar(x=['Стандартная', 'По учету времени'], height=t1['mean_group'])\n",
        "axes[2].set_title('Среднее потребление по категории учета')\n",
        "axes[2].set_xlabel('Категория учета')\n",
        "axes[2].set_ylabel('Среднее потребление')"
      ],
      "execution_count": 54,
      "outputs": [
        {
          "output_type": "execute_result",
          "data": {
            "text/plain": [
              "Text(0, 0.5, 'Среднее потребление')"
            ]
          },
          "metadata": {
            "tags": []
          },
          "execution_count": 54
        },
        {
          "output_type": "display_data",
          "data": {
            "image/png": "[encoded data removed]",
            "text/plain": [
              "<Figure size 504x1080 with 3 Axes>"
            ]
          },
          "metadata": {
            "tags": []
          }
        }
      ]
    },
    {
      "cell_type": "markdown",
      "metadata": {
        "id": "8cIUeYaoa2UH",
        "colab_type": "text"
      },
      "source": [
        "Выводы по графикам:\n",
        "\n",
        "Хотелось бы сделать вывод, что потребление энергии домохозяйством никак не зависит от типа установленного счетчика, но становится понятно, что текущей детализации недостаточно (пользователи с повременным учетом могут потреблять больше в дневное время, а суммарно за день показания будут примерно равны), необходимо сравнение по часам. Суммарные данные дают понять,что самих домохозяйств со стандартным учетом больше"
      ]
    },
    {
      "cell_type": "markdown",
      "metadata": {
        "id": "T6hkAEfZbPnY",
        "colab_type": "text"
      },
      "source": [
        "### Информация о распределении потребления энергии в зависимости от категории комфорта"
      ]
    },
    {
      "cell_type": "code",
      "metadata": {
        "id": "tXWO1UZHbT_X",
        "colab_type": "code",
        "colab": {
          "base_uri": "https://localhost:8080/",
          "height": 899
        },
        "outputId": "e2af7243-82fd-41b4-ed38-9ecb44439ce7"
      },
      "source": [
        "t1 = energy_use_hh.groupby('Acorn_grouped')['energy_sum']\\\n",
        "                  .agg({'count_group':'count',\n",
        "                        'sum_group':'sum',\n",
        "                        'mean_group':'mean'})\\\n",
        "                  .sort_values(by='mean_group', \n",
        "                               ascending=False)\\\n",
        "                  .reset_index()\n",
        "fig, axes = plt.subplots(3, 1, figsize=(7, 15), sharex=True)\n",
        "axes[0].bar(x=t1['Acorn_grouped'], height=t1['count_group'])\n",
        "axes[0].set_title('Количество домохозяйств по категории комфорта домовладения')\n",
        "axes[1].bar(x=t1['Acorn_grouped'], height=t1['sum_group'])\n",
        "axes[1].set_title('Суммарное потребление по категории комфорта домовладения')\n",
        "axes[2].bar(x=t1['Acorn_grouped'], height=t1['mean_group'])\n",
        "axes[2].set_title('Среднее потребление по категории комфорта домовладения')"
      ],
      "execution_count": 55,
      "outputs": [
        {
          "output_type": "execute_result",
          "data": {
            "text/plain": [
              "Text(0.5, 1.0, 'Среднее потребление по категории комфорта домовладения')"
            ]
          },
          "metadata": {
            "tags": []
          },
          "execution_count": 55
        },
        {
          "output_type": "display_data",
          "data": {
            "image/png": "[encoded data removed]",
            "text/plain": [
              "<Figure size 504x1080 with 3 Axes>"
            ]
          },
          "metadata": {
            "tags": []
          }
        }
      ]
    },
    {
      "cell_type": "markdown",
      "metadata": {
        "id": "KQz9X9mxcscf",
        "colab_type": "text"
      },
      "source": [
        "Выводы по категории комфорта:\n",
        "\n",
        "Больше всего домохозяйств со средним уровнем комфорта, и по этой же причине они генерируют больше всего потребления электроэнергии.\n",
        "Среднее потребление в целом не очень сильно отличается между категориями комфорта, но неожиданно максимальное потребление по среднему значению также у домохозяйств с средним уровнем комфорта"
      ]
    },
    {
      "cell_type": "markdown",
      "metadata": {
        "id": "7OeEt6KGc53u",
        "colab_type": "text"
      },
      "source": [
        "Объединим данные по категории ACORN, уровню комфорта и типу счетчика"
      ]
    },
    {
      "cell_type": "code",
      "metadata": {
        "id": "FVIdsSdpdBSz",
        "colab_type": "code",
        "colab": {
          "base_uri": "https://localhost:8080/",
          "height": 290
        },
        "outputId": "c8178b8d-a525-4b95-cded-262546c06987"
      },
      "source": [
        "t1 = energy_use_hh.groupby(\n",
        "    ['Acorn', 'stdorToU', 'Acorn_grouped'])['energy_sum']\\\n",
        "    .agg({'count_group': 'count',\n",
        "          'sum_group': 'sum',\n",
        "          'mean_group': 'mean'})\n",
        "display(\n",
        "    t1.sort_values(by='count_group', ascending=False).reset_index().head(2)\n",
        "    )\n",
        "display(\n",
        "    t1.sort_values(by='sum_group', ascending=False).reset_index().head(2)\n",
        "    )\n",
        "display(\n",
        "    t1.sort_values(by='mean_group', ascending=False).reset_index().head(2)\n",
        "    )"
      ],
      "execution_count": 59,
      "outputs": [
        {
          "output_type": "display_data",
          "data": {
            "text/html": [
              "<div>\n",
              "<style scoped>\n",
              "    .dataframe tbody tr th:only-of-type {\n",
              "        vertical-align: middle;\n",
              "    }\n",
              "\n",
              "    .dataframe tbody tr th {\n",
              "        vertical-align: top;\n",
              "    }\n",
              "\n",
              "    .dataframe thead th {\n",
              "        text-align: right;\n",
              "    }\n",
              "</style>\n",
              "<table border=\"1\" class=\"dataframe\">\n",
              "  <thead>\n",
              "    <tr style=\"text-align: right;\">\n",
              "      <th></th>\n",
              "      <th>Acorn</th>\n",
              "      <th>stdorToU</th>\n",
              "      <th>Acorn_grouped</th>\n",
              "      <th>count_group</th>\n",
              "      <th>sum_group</th>\n",
              "      <th>mean_group</th>\n",
              "    </tr>\n",
              "  </thead>\n",
              "  <tbody>\n",
              "    <tr>\n",
              "      <th>0</th>\n",
              "      <td>ACORN-E</td>\n",
              "      <td>Std</td>\n",
              "      <td>Affluent</td>\n",
              "      <td>1228</td>\n",
              "      <td>7.512337e+06</td>\n",
              "      <td>6117.537880</td>\n",
              "    </tr>\n",
              "    <tr>\n",
              "      <th>1</th>\n",
              "      <td>ACORN-Q</td>\n",
              "      <td>Std</td>\n",
              "      <td>Adversity</td>\n",
              "      <td>712</td>\n",
              "      <td>3.123371e+06</td>\n",
              "      <td>4386.757552</td>\n",
              "    </tr>\n",
              "  </tbody>\n",
              "</table>\n",
              "</div>"
            ],
            "text/plain": [
              "     Acorn stdorToU Acorn_grouped  count_group     sum_group   mean_group\n",
              "0  ACORN-E      Std      Affluent         1228  7.512337e+06  6117.537880\n",
              "1  ACORN-Q      Std     Adversity          712  3.123371e+06  4386.757552"
            ]
          },
          "metadata": {
            "tags": []
          }
        },
        {
          "output_type": "display_data",
          "data": {
            "text/html": [
              "<div>\n",
              "<style scoped>\n",
              "    .dataframe tbody tr th:only-of-type {\n",
              "        vertical-align: middle;\n",
              "    }\n",
              "\n",
              "    .dataframe tbody tr th {\n",
              "        vertical-align: top;\n",
              "    }\n",
              "\n",
              "    .dataframe thead th {\n",
              "        text-align: right;\n",
              "    }\n",
              "</style>\n",
              "<table border=\"1\" class=\"dataframe\">\n",
              "  <thead>\n",
              "    <tr style=\"text-align: right;\">\n",
              "      <th></th>\n",
              "      <th>Acorn</th>\n",
              "      <th>stdorToU</th>\n",
              "      <th>Acorn_grouped</th>\n",
              "      <th>count_group</th>\n",
              "      <th>sum_group</th>\n",
              "      <th>mean_group</th>\n",
              "    </tr>\n",
              "  </thead>\n",
              "  <tbody>\n",
              "    <tr>\n",
              "      <th>0</th>\n",
              "      <td>ACORN-E</td>\n",
              "      <td>Std</td>\n",
              "      <td>Affluent</td>\n",
              "      <td>1228</td>\n",
              "      <td>7.512337e+06</td>\n",
              "      <td>6117.537880</td>\n",
              "    </tr>\n",
              "    <tr>\n",
              "      <th>1</th>\n",
              "      <td>ACORN-Q</td>\n",
              "      <td>Std</td>\n",
              "      <td>Adversity</td>\n",
              "      <td>712</td>\n",
              "      <td>3.123371e+06</td>\n",
              "      <td>4386.757552</td>\n",
              "    </tr>\n",
              "  </tbody>\n",
              "</table>\n",
              "</div>"
            ],
            "text/plain": [
              "     Acorn stdorToU Acorn_grouped  count_group     sum_group   mean_group\n",
              "0  ACORN-E      Std      Affluent         1228  7.512337e+06  6117.537880\n",
              "1  ACORN-Q      Std     Adversity          712  3.123371e+06  4386.757552"
            ]
          },
          "metadata": {
            "tags": []
          }
        },
        {
          "output_type": "display_data",
          "data": {
            "text/html": [
              "<div>\n",
              "<style scoped>\n",
              "    .dataframe tbody tr th:only-of-type {\n",
              "        vertical-align: middle;\n",
              "    }\n",
              "\n",
              "    .dataframe tbody tr th {\n",
              "        vertical-align: top;\n",
              "    }\n",
              "\n",
              "    .dataframe thead th {\n",
              "        text-align: right;\n",
              "    }\n",
              "</style>\n",
              "<table border=\"1\" class=\"dataframe\">\n",
              "  <thead>\n",
              "    <tr style=\"text-align: right;\">\n",
              "      <th></th>\n",
              "      <th>Acorn</th>\n",
              "      <th>stdorToU</th>\n",
              "      <th>Acorn_grouped</th>\n",
              "      <th>count_group</th>\n",
              "      <th>sum_group</th>\n",
              "      <th>mean_group</th>\n",
              "    </tr>\n",
              "  </thead>\n",
              "  <tbody>\n",
              "    <tr>\n",
              "      <th>0</th>\n",
              "      <td>ACORN-A</td>\n",
              "      <td>Std</td>\n",
              "      <td>Affluent</td>\n",
              "      <td>118</td>\n",
              "      <td>1.303798e+06</td>\n",
              "      <td>11049.134449</td>\n",
              "    </tr>\n",
              "    <tr>\n",
              "      <th>1</th>\n",
              "      <td>ACORN-A</td>\n",
              "      <td>ToU</td>\n",
              "      <td>Affluent</td>\n",
              "      <td>39</td>\n",
              "      <td>3.475167e+05</td>\n",
              "      <td>8910.685385</td>\n",
              "    </tr>\n",
              "  </tbody>\n",
              "</table>\n",
              "</div>"
            ],
            "text/plain": [
              "     Acorn stdorToU Acorn_grouped  count_group     sum_group    mean_group\n",
              "0  ACORN-A      Std      Affluent          118  1.303798e+06  11049.134449\n",
              "1  ACORN-A      ToU      Affluent           39  3.475167e+05   8910.685385"
            ]
          },
          "metadata": {
            "tags": []
          }
        }
      ]
    },
    {
      "cell_type": "markdown",
      "metadata": {
        "id": "aw44oXkWdwVJ",
        "colab_type": "text"
      },
      "source": [
        "Собственно говоря, выводы ровно те же, что и были ранее: вверху списка по потреблённой энергии категория ACORN-E с стандартным типом расчета и средней категорией комфорта (т.к. их кол-во самое большое), а по среднему значению в верх списка попадает ACORN-A - также со стандартным расчетом и средней категорией комфорта"
      ]
    },
    {
      "cell_type": "markdown",
      "metadata": {
        "id": "7y2PtpNNeAxt",
        "colab_type": "text"
      },
      "source": [
        "## Анализ потребления по рабочим/праздничным/выходным дням и погодным условиям"
      ]
    },
    {
      "cell_type": "code",
      "metadata": {
        "id": "iRjq7k4EeHue",
        "colab_type": "code",
        "colab": {}
      },
      "source": [
        ""
      ],
      "execution_count": 0,
      "outputs": []
    }
  ]
}